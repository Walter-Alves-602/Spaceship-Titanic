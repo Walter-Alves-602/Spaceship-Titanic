{
  "cells": [
    {
      "cell_type": "markdown",
      "metadata": {
        "id": "Ug7JVyq2UOaM"
      },
      "source": [
        "# carregamento de modulos"
      ]
    },
    {
      "cell_type": "code",
      "execution_count": 2,
      "metadata": {
        "id": "k4581R7l_VQG"
      },
      "outputs": [],
      "source": [
        "import pandas as pd\n",
        "from matplotlib import pyplot as plt"
      ]
    },
    {
      "cell_type": "code",
      "execution_count": 3,
      "metadata": {
        "id": "38ASgGwcAJRI"
      },
      "outputs": [],
      "source": [
        "data = r\"https://raw.githubusercontent.com/Walter-Alves-602/Spaceship-Titanic/refs/heads/main/train.csv\"\n",
        "df = pd.read_csv(data)"
      ]
    },
    {
      "cell_type": "code",
      "execution_count": 4,
      "metadata": {
        "colab": {
          "base_uri": "https://localhost:8080/",
          "height": 206
        },
        "id": "B-0_SoRyA9bB",
        "outputId": "aeccd169-c306-44a3-911e-4eb32393ae9c"
      },
      "outputs": [
        {
          "data": {
            "text/html": [
              "<div>\n",
              "<style scoped>\n",
              "    .dataframe tbody tr th:only-of-type {\n",
              "        vertical-align: middle;\n",
              "    }\n",
              "\n",
              "    .dataframe tbody tr th {\n",
              "        vertical-align: top;\n",
              "    }\n",
              "\n",
              "    .dataframe thead th {\n",
              "        text-align: right;\n",
              "    }\n",
              "</style>\n",
              "<table border=\"1\" class=\"dataframe\">\n",
              "  <thead>\n",
              "    <tr style=\"text-align: right;\">\n",
              "      <th></th>\n",
              "      <th>PassengerId</th>\n",
              "      <th>HomePlanet</th>\n",
              "      <th>CryoSleep</th>\n",
              "      <th>Cabin</th>\n",
              "      <th>Destination</th>\n",
              "      <th>Age</th>\n",
              "      <th>VIP</th>\n",
              "      <th>RoomService</th>\n",
              "      <th>FoodCourt</th>\n",
              "      <th>ShoppingMall</th>\n",
              "      <th>Spa</th>\n",
              "      <th>VRDeck</th>\n",
              "      <th>Name</th>\n",
              "      <th>Transported</th>\n",
              "    </tr>\n",
              "  </thead>\n",
              "  <tbody>\n",
              "    <tr>\n",
              "      <th>0</th>\n",
              "      <td>0001_01</td>\n",
              "      <td>Europa</td>\n",
              "      <td>False</td>\n",
              "      <td>B/0/P</td>\n",
              "      <td>TRAPPIST-1e</td>\n",
              "      <td>39.0</td>\n",
              "      <td>False</td>\n",
              "      <td>0.0</td>\n",
              "      <td>0.0</td>\n",
              "      <td>0.0</td>\n",
              "      <td>0.0</td>\n",
              "      <td>0.0</td>\n",
              "      <td>Maham Ofracculy</td>\n",
              "      <td>False</td>\n",
              "    </tr>\n",
              "    <tr>\n",
              "      <th>1</th>\n",
              "      <td>0002_01</td>\n",
              "      <td>Earth</td>\n",
              "      <td>False</td>\n",
              "      <td>F/0/S</td>\n",
              "      <td>TRAPPIST-1e</td>\n",
              "      <td>24.0</td>\n",
              "      <td>False</td>\n",
              "      <td>109.0</td>\n",
              "      <td>9.0</td>\n",
              "      <td>25.0</td>\n",
              "      <td>549.0</td>\n",
              "      <td>44.0</td>\n",
              "      <td>Juanna Vines</td>\n",
              "      <td>True</td>\n",
              "    </tr>\n",
              "    <tr>\n",
              "      <th>2</th>\n",
              "      <td>0003_01</td>\n",
              "      <td>Europa</td>\n",
              "      <td>False</td>\n",
              "      <td>A/0/S</td>\n",
              "      <td>TRAPPIST-1e</td>\n",
              "      <td>58.0</td>\n",
              "      <td>True</td>\n",
              "      <td>43.0</td>\n",
              "      <td>3576.0</td>\n",
              "      <td>0.0</td>\n",
              "      <td>6715.0</td>\n",
              "      <td>49.0</td>\n",
              "      <td>Altark Susent</td>\n",
              "      <td>False</td>\n",
              "    </tr>\n",
              "    <tr>\n",
              "      <th>3</th>\n",
              "      <td>0003_02</td>\n",
              "      <td>Europa</td>\n",
              "      <td>False</td>\n",
              "      <td>A/0/S</td>\n",
              "      <td>TRAPPIST-1e</td>\n",
              "      <td>33.0</td>\n",
              "      <td>False</td>\n",
              "      <td>0.0</td>\n",
              "      <td>1283.0</td>\n",
              "      <td>371.0</td>\n",
              "      <td>3329.0</td>\n",
              "      <td>193.0</td>\n",
              "      <td>Solam Susent</td>\n",
              "      <td>False</td>\n",
              "    </tr>\n",
              "    <tr>\n",
              "      <th>4</th>\n",
              "      <td>0004_01</td>\n",
              "      <td>Earth</td>\n",
              "      <td>False</td>\n",
              "      <td>F/1/S</td>\n",
              "      <td>TRAPPIST-1e</td>\n",
              "      <td>16.0</td>\n",
              "      <td>False</td>\n",
              "      <td>303.0</td>\n",
              "      <td>70.0</td>\n",
              "      <td>151.0</td>\n",
              "      <td>565.0</td>\n",
              "      <td>2.0</td>\n",
              "      <td>Willy Santantines</td>\n",
              "      <td>True</td>\n",
              "    </tr>\n",
              "  </tbody>\n",
              "</table>\n",
              "</div>"
            ],
            "text/plain": [
              "  PassengerId HomePlanet CryoSleep  Cabin  Destination   Age    VIP  \\\n",
              "0     0001_01     Europa     False  B/0/P  TRAPPIST-1e  39.0  False   \n",
              "1     0002_01      Earth     False  F/0/S  TRAPPIST-1e  24.0  False   \n",
              "2     0003_01     Europa     False  A/0/S  TRAPPIST-1e  58.0   True   \n",
              "3     0003_02     Europa     False  A/0/S  TRAPPIST-1e  33.0  False   \n",
              "4     0004_01      Earth     False  F/1/S  TRAPPIST-1e  16.0  False   \n",
              "\n",
              "   RoomService  FoodCourt  ShoppingMall     Spa  VRDeck               Name  \\\n",
              "0          0.0        0.0           0.0     0.0     0.0    Maham Ofracculy   \n",
              "1        109.0        9.0          25.0   549.0    44.0       Juanna Vines   \n",
              "2         43.0     3576.0           0.0  6715.0    49.0      Altark Susent   \n",
              "3          0.0     1283.0         371.0  3329.0   193.0       Solam Susent   \n",
              "4        303.0       70.0         151.0   565.0     2.0  Willy Santantines   \n",
              "\n",
              "   Transported  \n",
              "0        False  \n",
              "1         True  \n",
              "2        False  \n",
              "3        False  \n",
              "4         True  "
            ]
          },
          "execution_count": 4,
          "metadata": {},
          "output_type": "execute_result"
        }
      ],
      "source": [
        "df.head()"
      ]
    },
    {
      "cell_type": "markdown",
      "metadata": {
        "id": "NOR8XkiQUUZo"
      },
      "source": [
        "# regeneração de dados"
      ]
    },
    {
      "cell_type": "markdown",
      "metadata": {
        "id": "z77vPw-V9fZx"
      },
      "source": []
    },
    {
      "cell_type": "code",
      "execution_count": 5,
      "metadata": {
        "colab": {
          "base_uri": "https://localhost:8080/"
        },
        "id": "HuliHln0Jj1j",
        "outputId": "996d6c94-f41f-40af-be70-40f20e980ff9"
      },
      "outputs": [
        {
          "data": {
            "text/plain": [
              "array(['TRAPPIST-1e', 'PSO J318.5-22', '55 Cancri e', nan], dtype=object)"
            ]
          },
          "execution_count": 5,
          "metadata": {},
          "output_type": "execute_result"
        }
      ],
      "source": [
        "df['Destination'].unique()"
      ]
    },
    {
      "cell_type": "code",
      "execution_count": 6,
      "metadata": {
        "colab": {
          "base_uri": "https://localhost:8080/"
        },
        "id": "0PgvXjanKU_Q",
        "outputId": "27e3803c-6679-44f6-c7c6-27e6339a19d2"
      },
      "outputs": [
        {
          "name": "stdout",
          "output_type": "stream",
          "text": [
            "<class 'pandas.core.frame.DataFrame'>\n",
            "RangeIndex: 8693 entries, 0 to 8692\n",
            "Data columns (total 14 columns):\n",
            " #   Column        Non-Null Count  Dtype  \n",
            "---  ------        --------------  -----  \n",
            " 0   PassengerId   8693 non-null   object \n",
            " 1   HomePlanet    8492 non-null   object \n",
            " 2   CryoSleep     8476 non-null   object \n",
            " 3   Cabin         8494 non-null   object \n",
            " 4   Destination   8511 non-null   object \n",
            " 5   Age           8514 non-null   float64\n",
            " 6   VIP           8490 non-null   object \n",
            " 7   RoomService   8512 non-null   float64\n",
            " 8   FoodCourt     8510 non-null   float64\n",
            " 9   ShoppingMall  8485 non-null   float64\n",
            " 10  Spa           8510 non-null   float64\n",
            " 11  VRDeck        8505 non-null   float64\n",
            " 12  Name          8493 non-null   object \n",
            " 13  Transported   8693 non-null   bool   \n",
            "dtypes: bool(1), float64(6), object(7)\n",
            "memory usage: 891.5+ KB\n"
          ]
        }
      ],
      "source": [
        "df.info()"
      ]
    },
    {
      "cell_type": "markdown",
      "metadata": {
        "id": "Pyx1jH8pLMPd"
      },
      "source": [
        "> vamos separar uma coluna para os grupos de pessoas, isso pode ser usado para regenerar dados perdidos"
      ]
    },
    {
      "cell_type": "code",
      "execution_count": 7,
      "metadata": {
        "id": "Yra989EwLXdz"
      },
      "outputs": [],
      "source": [
        "df[\"Group\"] = df[\"PassengerId\"].apply(lambda x: int(x.split(\"_\")[0]))"
      ]
    },
    {
      "cell_type": "code",
      "execution_count": 8,
      "metadata": {
        "colab": {
          "base_uri": "https://localhost:8080/",
          "height": 490
        },
        "id": "YhG3wifqL1_c",
        "outputId": "7e986de8-60b3-4400-d1b0-c5d4f908b813"
      },
      "outputs": [
        {
          "data": {
            "text/plain": [
              "Group\n",
              "4256    8\n",
              "5133    8\n",
              "8956    8\n",
              "8168    8\n",
              "984     8\n",
              "       ..\n",
              "3469    1\n",
              "3468    1\n",
              "3467    1\n",
              "3465    1\n",
              "3491    1\n",
              "Name: count, Length: 6217, dtype: int64"
            ]
          },
          "execution_count": 8,
          "metadata": {},
          "output_type": "execute_result"
        }
      ],
      "source": [
        "df['Group'].value_counts()"
      ]
    },
    {
      "cell_type": "code",
      "execution_count": 9,
      "metadata": {
        "colab": {
          "base_uri": "https://localhost:8080/",
          "height": 422
        },
        "id": "AsROIf_zMmCg",
        "outputId": "68127d43-0a08-4703-be24-42ed95b8ca04"
      },
      "outputs": [
        {
          "data": {
            "text/html": [
              "<div>\n",
              "<style scoped>\n",
              "    .dataframe tbody tr th:only-of-type {\n",
              "        vertical-align: middle;\n",
              "    }\n",
              "\n",
              "    .dataframe tbody tr th {\n",
              "        vertical-align: top;\n",
              "    }\n",
              "\n",
              "    .dataframe thead th {\n",
              "        text-align: right;\n",
              "    }\n",
              "</style>\n",
              "<table border=\"1\" class=\"dataframe\">\n",
              "  <thead>\n",
              "    <tr style=\"text-align: right;\">\n",
              "      <th></th>\n",
              "      <th>PassengerId</th>\n",
              "      <th>HomePlanet</th>\n",
              "      <th>CryoSleep</th>\n",
              "      <th>Cabin</th>\n",
              "      <th>Destination</th>\n",
              "      <th>Age</th>\n",
              "      <th>VIP</th>\n",
              "      <th>RoomService</th>\n",
              "      <th>FoodCourt</th>\n",
              "      <th>ShoppingMall</th>\n",
              "      <th>Spa</th>\n",
              "      <th>VRDeck</th>\n",
              "      <th>Name</th>\n",
              "      <th>Transported</th>\n",
              "      <th>Group</th>\n",
              "    </tr>\n",
              "  </thead>\n",
              "  <tbody>\n",
              "    <tr>\n",
              "      <th>8507</th>\n",
              "      <td>9081_01</td>\n",
              "      <td>Earth</td>\n",
              "      <td>False</td>\n",
              "      <td>G/1476/P</td>\n",
              "      <td>TRAPPIST-1e</td>\n",
              "      <td>8.0</td>\n",
              "      <td>False</td>\n",
              "      <td>0.0</td>\n",
              "      <td>0.0</td>\n",
              "      <td>0.0</td>\n",
              "      <td>0.0</td>\n",
              "      <td>0.0</td>\n",
              "      <td>Hanna Clemondsey</td>\n",
              "      <td>False</td>\n",
              "      <td>9081</td>\n",
              "    </tr>\n",
              "    <tr>\n",
              "      <th>8508</th>\n",
              "      <td>9081_02</td>\n",
              "      <td>Earth</td>\n",
              "      <td>False</td>\n",
              "      <td>F/1858/P</td>\n",
              "      <td>55 Cancri e</td>\n",
              "      <td>15.0</td>\n",
              "      <td>False</td>\n",
              "      <td>0.0</td>\n",
              "      <td>0.0</td>\n",
              "      <td>0.0</td>\n",
              "      <td>208.0</td>\n",
              "      <td>754.0</td>\n",
              "      <td>Willah Clemondsey</td>\n",
              "      <td>False</td>\n",
              "      <td>9081</td>\n",
              "    </tr>\n",
              "    <tr>\n",
              "      <th>8509</th>\n",
              "      <td>9081_03</td>\n",
              "      <td>Earth</td>\n",
              "      <td>True</td>\n",
              "      <td>NaN</td>\n",
              "      <td>TRAPPIST-1e</td>\n",
              "      <td>1.0</td>\n",
              "      <td>False</td>\n",
              "      <td>0.0</td>\n",
              "      <td>0.0</td>\n",
              "      <td>0.0</td>\n",
              "      <td>0.0</td>\n",
              "      <td>0.0</td>\n",
              "      <td>Beula Clemondsey</td>\n",
              "      <td>False</td>\n",
              "      <td>9081</td>\n",
              "    </tr>\n",
              "    <tr>\n",
              "      <th>8510</th>\n",
              "      <td>9081_04</td>\n",
              "      <td>Earth</td>\n",
              "      <td>False</td>\n",
              "      <td>G/1476/P</td>\n",
              "      <td>TRAPPIST-1e</td>\n",
              "      <td>9.0</td>\n",
              "      <td>False</td>\n",
              "      <td>0.0</td>\n",
              "      <td>0.0</td>\n",
              "      <td>0.0</td>\n",
              "      <td>0.0</td>\n",
              "      <td>0.0</td>\n",
              "      <td>NaN</td>\n",
              "      <td>True</td>\n",
              "      <td>9081</td>\n",
              "    </tr>\n",
              "    <tr>\n",
              "      <th>8511</th>\n",
              "      <td>9081_05</td>\n",
              "      <td>Earth</td>\n",
              "      <td>False</td>\n",
              "      <td>F/1858/P</td>\n",
              "      <td>TRAPPIST-1e</td>\n",
              "      <td>48.0</td>\n",
              "      <td>False</td>\n",
              "      <td>0.0</td>\n",
              "      <td>586.0</td>\n",
              "      <td>784.0</td>\n",
              "      <td>4.0</td>\n",
              "      <td>21.0</td>\n",
              "      <td>Haryn Clemondsey</td>\n",
              "      <td>True</td>\n",
              "      <td>9081</td>\n",
              "    </tr>\n",
              "    <tr>\n",
              "      <th>8512</th>\n",
              "      <td>9081_06</td>\n",
              "      <td>Earth</td>\n",
              "      <td>False</td>\n",
              "      <td>F/1858/P</td>\n",
              "      <td>PSO J318.5-22</td>\n",
              "      <td>16.0</td>\n",
              "      <td>NaN</td>\n",
              "      <td>0.0</td>\n",
              "      <td>0.0</td>\n",
              "      <td>761.0</td>\n",
              "      <td>0.0</td>\n",
              "      <td>0.0</td>\n",
              "      <td>Daryla Clemondsey</td>\n",
              "      <td>False</td>\n",
              "      <td>9081</td>\n",
              "    </tr>\n",
              "    <tr>\n",
              "      <th>8513</th>\n",
              "      <td>9081_07</td>\n",
              "      <td>Earth</td>\n",
              "      <td>True</td>\n",
              "      <td>G/1476/P</td>\n",
              "      <td>TRAPPIST-1e</td>\n",
              "      <td>27.0</td>\n",
              "      <td>False</td>\n",
              "      <td>0.0</td>\n",
              "      <td>0.0</td>\n",
              "      <td>0.0</td>\n",
              "      <td>0.0</td>\n",
              "      <td>0.0</td>\n",
              "      <td>Aliey Clemondsey</td>\n",
              "      <td>True</td>\n",
              "      <td>9081</td>\n",
              "    </tr>\n",
              "    <tr>\n",
              "      <th>8514</th>\n",
              "      <td>9081_08</td>\n",
              "      <td>Earth</td>\n",
              "      <td>True</td>\n",
              "      <td>G/1476/P</td>\n",
              "      <td>PSO J318.5-22</td>\n",
              "      <td>3.0</td>\n",
              "      <td>False</td>\n",
              "      <td>0.0</td>\n",
              "      <td>0.0</td>\n",
              "      <td>0.0</td>\n",
              "      <td>0.0</td>\n",
              "      <td>0.0</td>\n",
              "      <td>Virgie Clemondsey</td>\n",
              "      <td>True</td>\n",
              "      <td>9081</td>\n",
              "    </tr>\n",
              "  </tbody>\n",
              "</table>\n",
              "</div>"
            ],
            "text/plain": [
              "     PassengerId HomePlanet CryoSleep     Cabin    Destination   Age    VIP  \\\n",
              "8507     9081_01      Earth     False  G/1476/P    TRAPPIST-1e   8.0  False   \n",
              "8508     9081_02      Earth     False  F/1858/P    55 Cancri e  15.0  False   \n",
              "8509     9081_03      Earth      True       NaN    TRAPPIST-1e   1.0  False   \n",
              "8510     9081_04      Earth     False  G/1476/P    TRAPPIST-1e   9.0  False   \n",
              "8511     9081_05      Earth     False  F/1858/P    TRAPPIST-1e  48.0  False   \n",
              "8512     9081_06      Earth     False  F/1858/P  PSO J318.5-22  16.0    NaN   \n",
              "8513     9081_07      Earth      True  G/1476/P    TRAPPIST-1e  27.0  False   \n",
              "8514     9081_08      Earth      True  G/1476/P  PSO J318.5-22   3.0  False   \n",
              "\n",
              "      RoomService  FoodCourt  ShoppingMall    Spa  VRDeck               Name  \\\n",
              "8507          0.0        0.0           0.0    0.0     0.0   Hanna Clemondsey   \n",
              "8508          0.0        0.0           0.0  208.0   754.0  Willah Clemondsey   \n",
              "8509          0.0        0.0           0.0    0.0     0.0   Beula Clemondsey   \n",
              "8510          0.0        0.0           0.0    0.0     0.0                NaN   \n",
              "8511          0.0      586.0         784.0    4.0    21.0   Haryn Clemondsey   \n",
              "8512          0.0        0.0         761.0    0.0     0.0  Daryla Clemondsey   \n",
              "8513          0.0        0.0           0.0    0.0     0.0   Aliey Clemondsey   \n",
              "8514          0.0        0.0           0.0    0.0     0.0  Virgie Clemondsey   \n",
              "\n",
              "      Transported  Group  \n",
              "8507        False   9081  \n",
              "8508        False   9081  \n",
              "8509        False   9081  \n",
              "8510         True   9081  \n",
              "8511         True   9081  \n",
              "8512        False   9081  \n",
              "8513         True   9081  \n",
              "8514         True   9081  "
            ]
          },
          "execution_count": 9,
          "metadata": {},
          "output_type": "execute_result"
        }
      ],
      "source": [
        "df[df['Group'] == 9081]"
      ]
    },
    {
      "cell_type": "markdown",
      "metadata": {
        "id": "-D_F6ejZ95Nu"
      },
      "source": [
        "## separando cabine em posição"
      ]
    },
    {
      "cell_type": "code",
      "execution_count": 10,
      "metadata": {
        "colab": {
          "base_uri": "https://localhost:8080/",
          "height": 313
        },
        "id": "veYanWfF99q1",
        "outputId": "3e4ba75e-7ee8-4268-e478-7ddad58dacfb"
      },
      "outputs": [
        {
          "data": {
            "text/html": [
              "<div>\n",
              "<style scoped>\n",
              "    .dataframe tbody tr th:only-of-type {\n",
              "        vertical-align: middle;\n",
              "    }\n",
              "\n",
              "    .dataframe tbody tr th {\n",
              "        vertical-align: top;\n",
              "    }\n",
              "\n",
              "    .dataframe thead th {\n",
              "        text-align: right;\n",
              "    }\n",
              "</style>\n",
              "<table border=\"1\" class=\"dataframe\">\n",
              "  <thead>\n",
              "    <tr style=\"text-align: right;\">\n",
              "      <th></th>\n",
              "      <th>PassengerId</th>\n",
              "      <th>HomePlanet</th>\n",
              "      <th>CryoSleep</th>\n",
              "      <th>Cabin</th>\n",
              "      <th>Destination</th>\n",
              "      <th>Age</th>\n",
              "      <th>VIP</th>\n",
              "      <th>RoomService</th>\n",
              "      <th>FoodCourt</th>\n",
              "      <th>ShoppingMall</th>\n",
              "      <th>Spa</th>\n",
              "      <th>VRDeck</th>\n",
              "      <th>Name</th>\n",
              "      <th>Transported</th>\n",
              "      <th>Group</th>\n",
              "      <th>deck</th>\n",
              "      <th>num</th>\n",
              "      <th>side</th>\n",
              "    </tr>\n",
              "  </thead>\n",
              "  <tbody>\n",
              "    <tr>\n",
              "      <th>0</th>\n",
              "      <td>0001_01</td>\n",
              "      <td>Europa</td>\n",
              "      <td>False</td>\n",
              "      <td>B/0/P</td>\n",
              "      <td>TRAPPIST-1e</td>\n",
              "      <td>39.0</td>\n",
              "      <td>False</td>\n",
              "      <td>0.0</td>\n",
              "      <td>0.0</td>\n",
              "      <td>0.0</td>\n",
              "      <td>0.0</td>\n",
              "      <td>0.0</td>\n",
              "      <td>Maham Ofracculy</td>\n",
              "      <td>False</td>\n",
              "      <td>1</td>\n",
              "      <td>B</td>\n",
              "      <td>0</td>\n",
              "      <td>P</td>\n",
              "    </tr>\n",
              "    <tr>\n",
              "      <th>1</th>\n",
              "      <td>0002_01</td>\n",
              "      <td>Earth</td>\n",
              "      <td>False</td>\n",
              "      <td>F/0/S</td>\n",
              "      <td>TRAPPIST-1e</td>\n",
              "      <td>24.0</td>\n",
              "      <td>False</td>\n",
              "      <td>109.0</td>\n",
              "      <td>9.0</td>\n",
              "      <td>25.0</td>\n",
              "      <td>549.0</td>\n",
              "      <td>44.0</td>\n",
              "      <td>Juanna Vines</td>\n",
              "      <td>True</td>\n",
              "      <td>2</td>\n",
              "      <td>F</td>\n",
              "      <td>0</td>\n",
              "      <td>S</td>\n",
              "    </tr>\n",
              "    <tr>\n",
              "      <th>2</th>\n",
              "      <td>0003_01</td>\n",
              "      <td>Europa</td>\n",
              "      <td>False</td>\n",
              "      <td>A/0/S</td>\n",
              "      <td>TRAPPIST-1e</td>\n",
              "      <td>58.0</td>\n",
              "      <td>True</td>\n",
              "      <td>43.0</td>\n",
              "      <td>3576.0</td>\n",
              "      <td>0.0</td>\n",
              "      <td>6715.0</td>\n",
              "      <td>49.0</td>\n",
              "      <td>Altark Susent</td>\n",
              "      <td>False</td>\n",
              "      <td>3</td>\n",
              "      <td>A</td>\n",
              "      <td>0</td>\n",
              "      <td>S</td>\n",
              "    </tr>\n",
              "    <tr>\n",
              "      <th>3</th>\n",
              "      <td>0003_02</td>\n",
              "      <td>Europa</td>\n",
              "      <td>False</td>\n",
              "      <td>A/0/S</td>\n",
              "      <td>TRAPPIST-1e</td>\n",
              "      <td>33.0</td>\n",
              "      <td>False</td>\n",
              "      <td>0.0</td>\n",
              "      <td>1283.0</td>\n",
              "      <td>371.0</td>\n",
              "      <td>3329.0</td>\n",
              "      <td>193.0</td>\n",
              "      <td>Solam Susent</td>\n",
              "      <td>False</td>\n",
              "      <td>3</td>\n",
              "      <td>A</td>\n",
              "      <td>0</td>\n",
              "      <td>S</td>\n",
              "    </tr>\n",
              "    <tr>\n",
              "      <th>4</th>\n",
              "      <td>0004_01</td>\n",
              "      <td>Earth</td>\n",
              "      <td>False</td>\n",
              "      <td>F/1/S</td>\n",
              "      <td>TRAPPIST-1e</td>\n",
              "      <td>16.0</td>\n",
              "      <td>False</td>\n",
              "      <td>303.0</td>\n",
              "      <td>70.0</td>\n",
              "      <td>151.0</td>\n",
              "      <td>565.0</td>\n",
              "      <td>2.0</td>\n",
              "      <td>Willy Santantines</td>\n",
              "      <td>True</td>\n",
              "      <td>4</td>\n",
              "      <td>F</td>\n",
              "      <td>1</td>\n",
              "      <td>S</td>\n",
              "    </tr>\n",
              "  </tbody>\n",
              "</table>\n",
              "</div>"
            ],
            "text/plain": [
              "  PassengerId HomePlanet CryoSleep  Cabin  Destination   Age    VIP  \\\n",
              "0     0001_01     Europa     False  B/0/P  TRAPPIST-1e  39.0  False   \n",
              "1     0002_01      Earth     False  F/0/S  TRAPPIST-1e  24.0  False   \n",
              "2     0003_01     Europa     False  A/0/S  TRAPPIST-1e  58.0   True   \n",
              "3     0003_02     Europa     False  A/0/S  TRAPPIST-1e  33.0  False   \n",
              "4     0004_01      Earth     False  F/1/S  TRAPPIST-1e  16.0  False   \n",
              "\n",
              "   RoomService  FoodCourt  ShoppingMall     Spa  VRDeck               Name  \\\n",
              "0          0.0        0.0           0.0     0.0     0.0    Maham Ofracculy   \n",
              "1        109.0        9.0          25.0   549.0    44.0       Juanna Vines   \n",
              "2         43.0     3576.0           0.0  6715.0    49.0      Altark Susent   \n",
              "3          0.0     1283.0         371.0  3329.0   193.0       Solam Susent   \n",
              "4        303.0       70.0         151.0   565.0     2.0  Willy Santantines   \n",
              "\n",
              "   Transported  Group deck num side  \n",
              "0        False      1    B   0    P  \n",
              "1         True      2    F   0    S  \n",
              "2        False      3    A   0    S  \n",
              "3        False      3    A   0    S  \n",
              "4         True      4    F   1    S  "
            ]
          },
          "execution_count": 10,
          "metadata": {},
          "output_type": "execute_result"
        }
      ],
      "source": [
        "df[['deck', 'num', 'side']] = df['Cabin'].str.split('/', expand=True)\n",
        "df.head()"
      ]
    },
    {
      "cell_type": "markdown",
      "metadata": {
        "id": "2XGeefYEOQkZ"
      },
      "source": [
        "> notas-se que no mesmo grupo, Home planet, e Vip parecce ser o mesmo,"
      ]
    },
    {
      "cell_type": "markdown",
      "metadata": {
        "id": "5vDvVK9WUjOV"
      },
      "source": [
        "## regenerando VIP e HomePlanet por moda do grupo"
      ]
    },
    {
      "cell_type": "code",
      "execution_count": 11,
      "metadata": {
        "colab": {
          "base_uri": "https://localhost:8080/",
          "height": 455
        },
        "id": "vvKEAU_yOPrH",
        "outputId": "bc5ef497-eddc-48b8-f505-571bfe848157"
      },
      "outputs": [
        {
          "data": {
            "text/html": [
              "<div>\n",
              "<style scoped>\n",
              "    .dataframe tbody tr th:only-of-type {\n",
              "        vertical-align: middle;\n",
              "    }\n",
              "\n",
              "    .dataframe tbody tr th {\n",
              "        vertical-align: top;\n",
              "    }\n",
              "\n",
              "    .dataframe thead th {\n",
              "        text-align: right;\n",
              "    }\n",
              "</style>\n",
              "<table border=\"1\" class=\"dataframe\">\n",
              "  <thead>\n",
              "    <tr style=\"text-align: right;\">\n",
              "      <th></th>\n",
              "      <th>VIP</th>\n",
              "      <th>HomePlanet</th>\n",
              "    </tr>\n",
              "    <tr>\n",
              "      <th>Group</th>\n",
              "      <th></th>\n",
              "      <th></th>\n",
              "    </tr>\n",
              "  </thead>\n",
              "  <tbody>\n",
              "    <tr>\n",
              "      <th>7518</th>\n",
              "      <td>2</td>\n",
              "      <td>1</td>\n",
              "    </tr>\n",
              "    <tr>\n",
              "      <th>2257</th>\n",
              "      <td>2</td>\n",
              "      <td>1</td>\n",
              "    </tr>\n",
              "    <tr>\n",
              "      <th>6400</th>\n",
              "      <td>2</td>\n",
              "      <td>1</td>\n",
              "    </tr>\n",
              "    <tr>\n",
              "      <th>7498</th>\n",
              "      <td>2</td>\n",
              "      <td>1</td>\n",
              "    </tr>\n",
              "    <tr>\n",
              "      <th>4336</th>\n",
              "      <td>2</td>\n",
              "      <td>1</td>\n",
              "    </tr>\n",
              "    <tr>\n",
              "      <th>...</th>\n",
              "      <td>...</td>\n",
              "      <td>...</td>\n",
              "    </tr>\n",
              "    <tr>\n",
              "      <th>913</th>\n",
              "      <td>0</td>\n",
              "      <td>1</td>\n",
              "    </tr>\n",
              "    <tr>\n",
              "      <th>819</th>\n",
              "      <td>0</td>\n",
              "      <td>1</td>\n",
              "    </tr>\n",
              "    <tr>\n",
              "      <th>679</th>\n",
              "      <td>0</td>\n",
              "      <td>1</td>\n",
              "    </tr>\n",
              "    <tr>\n",
              "      <th>593</th>\n",
              "      <td>0</td>\n",
              "      <td>1</td>\n",
              "    </tr>\n",
              "    <tr>\n",
              "      <th>165</th>\n",
              "      <td>0</td>\n",
              "      <td>1</td>\n",
              "    </tr>\n",
              "  </tbody>\n",
              "</table>\n",
              "<p>6217 rows × 2 columns</p>\n",
              "</div>"
            ],
            "text/plain": [
              "       VIP  HomePlanet\n",
              "Group                 \n",
              "7518     2           1\n",
              "2257     2           1\n",
              "6400     2           1\n",
              "7498     2           1\n",
              "4336     2           1\n",
              "...    ...         ...\n",
              "913      0           1\n",
              "819      0           1\n",
              "679      0           1\n",
              "593      0           1\n",
              "165      0           1\n",
              "\n",
              "[6217 rows x 2 columns]"
            ]
          },
          "execution_count": 11,
          "metadata": {},
          "output_type": "execute_result"
        }
      ],
      "source": [
        "df[['VIP', \"Group\",\"HomePlanet\"]].groupby('Group').nunique().sort_values('VIP', ascending=False)"
      ]
    },
    {
      "cell_type": "code",
      "execution_count": 12,
      "metadata": {
        "colab": {
          "base_uri": "https://localhost:8080/",
          "height": 567
        },
        "id": "6rEqLaDuQg-m",
        "outputId": "ddbc7052-9ffa-4add-9801-045fa7071261"
      },
      "outputs": [
        {
          "data": {
            "image/png": "[encoded data removed]",
            "text/plain": [
              "<Figure size 1000x600 with 1 Axes>"
            ]
          },
          "metadata": {},
          "output_type": "display_data"
        }
      ],
      "source": [
        "# Agrupar por 'Group' e contar valores únicos de 'HomePlanet'\n",
        "unique_homeplanets_per_group = df.groupby('Group')['HomePlanet'].nunique()\n",
        "# Plotar o histograma\n",
        "plt.figure(figsize=(10, 6))\n",
        "unique_homeplanets_per_group.plot(kind='hist', bins=range(1, 5), align='left', rwidth=0.8) # bins para 1, 2, 3, 4 valores únicos\n",
        "plt.title('Histograma da Quantidade de Valores Únicos de HomePlanet por Grupo')\n",
        "plt.xlabel('Número de Valores Únicos de HomePlanet')\n",
        "plt.ylabel('Frequência (Número de Grupos)')\n",
        "plt.xticks([1, 2, 3, 4]) # Mostrar ticks para os valores possíveis de unique HomePlanets\n",
        "plt.gca().spines[['top', 'right']].set_visible(False)\n",
        "plt.show()"
      ]
    },
    {
      "cell_type": "markdown",
      "metadata": {
        "id": "JGs-NxtTRkfs"
      },
      "source": [
        "> é possivel regenerar o estatus VIP e o planeta natal apartir dos dados do grupo"
      ]
    },
    {
      "cell_type": "code",
      "execution_count": 13,
      "metadata": {
        "colab": {
          "base_uri": "https://localhost:8080/"
        },
        "id": "Pkjp1u17RtEF",
        "outputId": "dd2b367a-102b-4808-8b56-7724ac531e05"
      },
      "outputs": [
        {
          "name": "stdout",
          "output_type": "stream",
          "text": [
            "Valores faltantes em HomePlanet após preenchimento por grupo:\n",
            "111\n",
            "\n",
            "Valores faltantes restantes preenchidos com a moda global de HomePlanet.\n",
            "\n",
            "Valores faltantes em HomePlanet após preenchimento global:\n",
            "0\n",
            "<class 'pandas.core.frame.DataFrame'>\n",
            "RangeIndex: 8693 entries, 0 to 8692\n",
            "Data columns (total 18 columns):\n",
            " #   Column        Non-Null Count  Dtype  \n",
            "---  ------        --------------  -----  \n",
            " 0   PassengerId   8693 non-null   object \n",
            " 1   HomePlanet    8693 non-null   object \n",
            " 2   CryoSleep     8476 non-null   object \n",
            " 3   Cabin         8494 non-null   object \n",
            " 4   Destination   8511 non-null   object \n",
            " 5   Age           8514 non-null   float64\n",
            " 6   VIP           8490 non-null   object \n",
            " 7   RoomService   8512 non-null   float64\n",
            " 8   FoodCourt     8510 non-null   float64\n",
            " 9   ShoppingMall  8485 non-null   float64\n",
            " 10  Spa           8510 non-null   float64\n",
            " 11  VRDeck        8505 non-null   float64\n",
            " 12  Name          8493 non-null   object \n",
            " 13  Transported   8693 non-null   bool   \n",
            " 14  Group         8693 non-null   int64  \n",
            " 15  deck          8494 non-null   object \n",
            " 16  num           8494 non-null   object \n",
            " 17  side          8494 non-null   object \n",
            "dtypes: bool(1), float64(6), int64(1), object(10)\n",
            "memory usage: 1.1+ MB\n"
          ]
        },
        {
          "name": "stderr",
          "output_type": "stream",
          "text": [
            "/tmp/ipykernel_24798/3680481212.py:23: FutureWarning: A value is trying to be set on a copy of a DataFrame or Series through chained assignment using an inplace method.\n",
            "The behavior will change in pandas 3.0. This inplace method will never work because the intermediate object on which we are setting values always behaves as a copy.\n",
            "\n",
            "For example, when doing 'df[col].method(value, inplace=True)', try using 'df.method({col: value}, inplace=True)' or df[col] = df[col].method(value) instead, to perform the operation inplace on the original object.\n",
            "\n",
            "\n",
            "  df['HomePlanet'].fillna(global_mode_homeplanet[0], inplace=True)\n"
          ]
        }
      ],
      "source": [
        "def fill_homeplanet_by_group_mode(row):\n",
        "    if pd.isna(row['HomePlanet']):\n",
        "        group_data = df[df['Group'] == row['Group']]\n",
        "        # Calcula a moda, retorna o primeiro valor se houver múltiplos modos\n",
        "        mode_value = group_data['HomePlanet'].mode()\n",
        "        if not mode_value.empty:\n",
        "            return mode_value[0]\n",
        "    return row['HomePlanet']\n",
        "\n",
        "# Aplicar a função para preencher os valores faltantes\n",
        "df['HomePlanet'] = df.apply(fill_homeplanet_by_group_mode, axis=1)\n",
        "\n",
        "# Verificar se ainda há valores faltantes em HomePlanet após o preenchimento por grupo\n",
        "print(\"Valores faltantes em HomePlanet após preenchimento por grupo:\")\n",
        "print(df['HomePlanet'].isnull().sum())\n",
        "\n",
        "# Para os valores que ainda podem estar faltando (grupos onde todos HomePlanet são NaN),\n",
        "# podemos preencher com a moda global de HomePlanet ou outra estratégia.\n",
        "# Aqui, vamos preencher o restante com a moda global\n",
        "if df['HomePlanet'].isnull().sum() > 0:\n",
        "    global_mode_homeplanet = df['HomePlanet'].mode()\n",
        "    if not global_mode_homeplanet.empty:\n",
        "        df['HomePlanet'].fillna(global_mode_homeplanet[0], inplace=True)\n",
        "        print(\"\\nValores faltantes restantes preenchidos com a moda global de HomePlanet.\")\n",
        "\n",
        "print(\"\\nValores faltantes em HomePlanet após preenchimento global:\")\n",
        "print(df['HomePlanet'].isnull().sum())\n",
        "df.info()"
      ]
    },
    {
      "cell_type": "code",
      "execution_count": 14,
      "metadata": {
        "colab": {
          "base_uri": "https://localhost:8080/"
        },
        "id": "2kTJOkL_Sf5I",
        "outputId": "0591e580-eda1-4d7e-b87f-4513c17b7b95"
      },
      "outputs": [
        {
          "name": "stdout",
          "output_type": "stream",
          "text": [
            "Valores faltantes em VIP após preenchimento por grupo:\n",
            "116\n",
            "\n",
            "Valores faltantes restantes preenchidos com a moda global de VIP.\n",
            "\n",
            "Valores faltantes em VIP após preenchimento global:\n",
            "0\n",
            "<class 'pandas.core.frame.DataFrame'>\n",
            "RangeIndex: 8693 entries, 0 to 8692\n",
            "Data columns (total 18 columns):\n",
            " #   Column        Non-Null Count  Dtype  \n",
            "---  ------        --------------  -----  \n",
            " 0   PassengerId   8693 non-null   object \n",
            " 1   HomePlanet    8693 non-null   object \n",
            " 2   CryoSleep     8476 non-null   object \n",
            " 3   Cabin         8494 non-null   object \n",
            " 4   Destination   8511 non-null   object \n",
            " 5   Age           8514 non-null   float64\n",
            " 6   VIP           8693 non-null   bool   \n",
            " 7   RoomService   8512 non-null   float64\n",
            " 8   FoodCourt     8510 non-null   float64\n",
            " 9   ShoppingMall  8485 non-null   float64\n",
            " 10  Spa           8510 non-null   float64\n",
            " 11  VRDeck        8505 non-null   float64\n",
            " 12  Name          8493 non-null   object \n",
            " 13  Transported   8693 non-null   bool   \n",
            " 14  Group         8693 non-null   int64  \n",
            " 15  deck          8494 non-null   object \n",
            " 16  num           8494 non-null   object \n",
            " 17  side          8494 non-null   object \n",
            "dtypes: bool(2), float64(6), int64(1), object(9)\n",
            "memory usage: 1.1+ MB\n"
          ]
        },
        {
          "name": "stderr",
          "output_type": "stream",
          "text": [
            "/tmp/ipykernel_24798/2735502876.py:23: FutureWarning: A value is trying to be set on a copy of a DataFrame or Series through chained assignment using an inplace method.\n",
            "The behavior will change in pandas 3.0. This inplace method will never work because the intermediate object on which we are setting values always behaves as a copy.\n",
            "\n",
            "For example, when doing 'df[col].method(value, inplace=True)', try using 'df.method({col: value}, inplace=True)' or df[col] = df[col].method(value) instead, to perform the operation inplace on the original object.\n",
            "\n",
            "\n",
            "  df['VIP'].fillna(global_mode_VIP[0], inplace=True)\n",
            "/tmp/ipykernel_24798/2735502876.py:23: FutureWarning: Downcasting object dtype arrays on .fillna, .ffill, .bfill is deprecated and will change in a future version. Call result.infer_objects(copy=False) instead. To opt-in to the future behavior, set `pd.set_option('future.no_silent_downcasting', True)`\n",
            "  df['VIP'].fillna(global_mode_VIP[0], inplace=True)\n"
          ]
        }
      ],
      "source": [
        "def fill_VIP_by_group_mode(row):\n",
        "    if pd.isna(row['VIP']):\n",
        "        group_data = df[df['Group'] == row['Group']]\n",
        "        # Calcula a moda, retorna o primeiro valor se houver múltiplos modos\n",
        "        mode_value = group_data['VIP'].mode()\n",
        "        if not mode_value.empty:\n",
        "            return mode_value[0]\n",
        "    return row['VIP']\n",
        "\n",
        "# Aplicar a função para preencher os valores faltantes\n",
        "df['VIP'] = df.apply(fill_VIP_by_group_mode, axis=1)\n",
        "\n",
        "# Verificar se ainda há valores faltantes em VIP após o preenchimento por grupo\n",
        "print(\"Valores faltantes em VIP após preenchimento por grupo:\")\n",
        "print(df['VIP'].isnull().sum())\n",
        "\n",
        "# Para os valores que ainda podem estar faltando (grupos onde todos VIP são NaN),\n",
        "# podemos preencher com a moda global de VIP ou outra estratégia.\n",
        "# Aqui, vamos preencher o restante com a moda global\n",
        "if df['VIP'].isnull().sum() > 0:\n",
        "    global_mode_VIP = df['VIP'].mode()\n",
        "    if not global_mode_VIP.empty:\n",
        "        df['VIP'].fillna(global_mode_VIP[0], inplace=True)\n",
        "        print(\"\\nValores faltantes restantes preenchidos com a moda global de VIP.\")\n",
        "\n",
        "print(\"\\nValores faltantes em VIP após preenchimento global:\")\n",
        "print(df['VIP'].isnull().sum())\n",
        "df.info()"
      ]
    },
    {
      "cell_type": "markdown",
      "metadata": {
        "id": "GXocvp9TUpOW"
      },
      "source": [
        "## placeholder"
      ]
    },
    {
      "cell_type": "code",
      "execution_count": 15,
      "metadata": {
        "colab": {
          "base_uri": "https://localhost:8080/",
          "height": 272
        },
        "id": "DxaVVsubUrW6",
        "outputId": "e3b95ddf-e0b6-4586-f342-a3d170615311"
      },
      "outputs": [
        {
          "data": {
            "text/plain": [
              "Cabin\n",
              "G/734/S    8\n",
              "G/109/P    7\n",
              "D/176/S    7\n",
              "B/11/S     7\n",
              "C/137/S    7\n",
              "Name: Cabin, dtype: int64"
            ]
          },
          "execution_count": 15,
          "metadata": {},
          "output_type": "execute_result"
        }
      ],
      "source": [
        "df.groupby('Cabin')['Cabin'].count().sort_values(ascending=False).head(5)"
      ]
    },
    {
      "cell_type": "code",
      "execution_count": 16,
      "metadata": {
        "colab": {
          "base_uri": "https://localhost:8080/",
          "height": 459
        },
        "id": "lClLrBx6WU_Q",
        "outputId": "9c9aa9bb-5dab-4ab3-bcdf-26041bee0904"
      },
      "outputs": [
        {
          "data": {
            "text/html": [
              "<div>\n",
              "<style scoped>\n",
              "    .dataframe tbody tr th:only-of-type {\n",
              "        vertical-align: middle;\n",
              "    }\n",
              "\n",
              "    .dataframe tbody tr th {\n",
              "        vertical-align: top;\n",
              "    }\n",
              "\n",
              "    .dataframe thead th {\n",
              "        text-align: right;\n",
              "    }\n",
              "</style>\n",
              "<table border=\"1\" class=\"dataframe\">\n",
              "  <thead>\n",
              "    <tr style=\"text-align: right;\">\n",
              "      <th></th>\n",
              "      <th>PassengerId</th>\n",
              "      <th>HomePlanet</th>\n",
              "      <th>CryoSleep</th>\n",
              "      <th>Cabin</th>\n",
              "      <th>Destination</th>\n",
              "      <th>Age</th>\n",
              "      <th>VIP</th>\n",
              "      <th>RoomService</th>\n",
              "      <th>FoodCourt</th>\n",
              "      <th>ShoppingMall</th>\n",
              "      <th>Spa</th>\n",
              "      <th>VRDeck</th>\n",
              "      <th>Name</th>\n",
              "      <th>Transported</th>\n",
              "      <th>Group</th>\n",
              "      <th>deck</th>\n",
              "      <th>num</th>\n",
              "      <th>side</th>\n",
              "    </tr>\n",
              "  </thead>\n",
              "  <tbody>\n",
              "    <tr>\n",
              "      <th>4221</th>\n",
              "      <td>4498_01</td>\n",
              "      <td>Earth</td>\n",
              "      <td>False</td>\n",
              "      <td>G/734/S</td>\n",
              "      <td>55 Cancri e</td>\n",
              "      <td>11.0</td>\n",
              "      <td>False</td>\n",
              "      <td>0.0</td>\n",
              "      <td>0.0</td>\n",
              "      <td>0.0</td>\n",
              "      <td>0.0</td>\n",
              "      <td>0.0</td>\n",
              "      <td>Valex Munozanson</td>\n",
              "      <td>False</td>\n",
              "      <td>4498</td>\n",
              "      <td>G</td>\n",
              "      <td>734</td>\n",
              "      <td>S</td>\n",
              "    </tr>\n",
              "    <tr>\n",
              "      <th>4222</th>\n",
              "      <td>4498_02</td>\n",
              "      <td>Earth</td>\n",
              "      <td>True</td>\n",
              "      <td>G/734/S</td>\n",
              "      <td>PSO J318.5-22</td>\n",
              "      <td>14.0</td>\n",
              "      <td>False</td>\n",
              "      <td>0.0</td>\n",
              "      <td>0.0</td>\n",
              "      <td>0.0</td>\n",
              "      <td>0.0</td>\n",
              "      <td>0.0</td>\n",
              "      <td>Loise Beckeetter</td>\n",
              "      <td>False</td>\n",
              "      <td>4498</td>\n",
              "      <td>G</td>\n",
              "      <td>734</td>\n",
              "      <td>S</td>\n",
              "    </tr>\n",
              "    <tr>\n",
              "      <th>4223</th>\n",
              "      <td>4498_03</td>\n",
              "      <td>Earth</td>\n",
              "      <td>True</td>\n",
              "      <td>G/734/S</td>\n",
              "      <td>PSO J318.5-22</td>\n",
              "      <td>4.0</td>\n",
              "      <td>False</td>\n",
              "      <td>0.0</td>\n",
              "      <td>0.0</td>\n",
              "      <td>0.0</td>\n",
              "      <td>0.0</td>\n",
              "      <td>0.0</td>\n",
              "      <td>Lorie Beckeetter</td>\n",
              "      <td>True</td>\n",
              "      <td>4498</td>\n",
              "      <td>G</td>\n",
              "      <td>734</td>\n",
              "      <td>S</td>\n",
              "    </tr>\n",
              "    <tr>\n",
              "      <th>4224</th>\n",
              "      <td>4498_04</td>\n",
              "      <td>Earth</td>\n",
              "      <td>False</td>\n",
              "      <td>G/734/S</td>\n",
              "      <td>TRAPPIST-1e</td>\n",
              "      <td>11.0</td>\n",
              "      <td>False</td>\n",
              "      <td>0.0</td>\n",
              "      <td>0.0</td>\n",
              "      <td>0.0</td>\n",
              "      <td>0.0</td>\n",
              "      <td>NaN</td>\n",
              "      <td>Dandy Munozanson</td>\n",
              "      <td>False</td>\n",
              "      <td>4498</td>\n",
              "      <td>G</td>\n",
              "      <td>734</td>\n",
              "      <td>S</td>\n",
              "    </tr>\n",
              "    <tr>\n",
              "      <th>4225</th>\n",
              "      <td>4498_05</td>\n",
              "      <td>Earth</td>\n",
              "      <td>True</td>\n",
              "      <td>G/734/S</td>\n",
              "      <td>TRAPPIST-1e</td>\n",
              "      <td>31.0</td>\n",
              "      <td>False</td>\n",
              "      <td>0.0</td>\n",
              "      <td>0.0</td>\n",
              "      <td>0.0</td>\n",
              "      <td>0.0</td>\n",
              "      <td>0.0</td>\n",
              "      <td>Karay Beckeetter</td>\n",
              "      <td>True</td>\n",
              "      <td>4498</td>\n",
              "      <td>G</td>\n",
              "      <td>734</td>\n",
              "      <td>S</td>\n",
              "    </tr>\n",
              "    <tr>\n",
              "      <th>4226</th>\n",
              "      <td>4498_06</td>\n",
              "      <td>Earth</td>\n",
              "      <td>False</td>\n",
              "      <td>G/734/S</td>\n",
              "      <td>TRAPPIST-1e</td>\n",
              "      <td>15.0</td>\n",
              "      <td>False</td>\n",
              "      <td>0.0</td>\n",
              "      <td>893.0</td>\n",
              "      <td>0.0</td>\n",
              "      <td>0.0</td>\n",
              "      <td>0.0</td>\n",
              "      <td>Line Munozanson</td>\n",
              "      <td>True</td>\n",
              "      <td>4498</td>\n",
              "      <td>G</td>\n",
              "      <td>734</td>\n",
              "      <td>S</td>\n",
              "    </tr>\n",
              "    <tr>\n",
              "      <th>4227</th>\n",
              "      <td>4498_07</td>\n",
              "      <td>Earth</td>\n",
              "      <td>False</td>\n",
              "      <td>G/734/S</td>\n",
              "      <td>TRAPPIST-1e</td>\n",
              "      <td>39.0</td>\n",
              "      <td>False</td>\n",
              "      <td>0.0</td>\n",
              "      <td>2.0</td>\n",
              "      <td>0.0</td>\n",
              "      <td>69.0</td>\n",
              "      <td>836.0</td>\n",
              "      <td>Dary Mallerez</td>\n",
              "      <td>False</td>\n",
              "      <td>4498</td>\n",
              "      <td>G</td>\n",
              "      <td>734</td>\n",
              "      <td>S</td>\n",
              "    </tr>\n",
              "    <tr>\n",
              "      <th>4228</th>\n",
              "      <td>4498_08</td>\n",
              "      <td>Earth</td>\n",
              "      <td>False</td>\n",
              "      <td>G/734/S</td>\n",
              "      <td>TRAPPIST-1e</td>\n",
              "      <td>7.0</td>\n",
              "      <td>False</td>\n",
              "      <td>0.0</td>\n",
              "      <td>0.0</td>\n",
              "      <td>0.0</td>\n",
              "      <td>0.0</td>\n",
              "      <td>0.0</td>\n",
              "      <td>Kendy Munozanson</td>\n",
              "      <td>False</td>\n",
              "      <td>4498</td>\n",
              "      <td>G</td>\n",
              "      <td>734</td>\n",
              "      <td>S</td>\n",
              "    </tr>\n",
              "  </tbody>\n",
              "</table>\n",
              "</div>"
            ],
            "text/plain": [
              "     PassengerId HomePlanet CryoSleep    Cabin    Destination   Age    VIP  \\\n",
              "4221     4498_01      Earth     False  G/734/S    55 Cancri e  11.0  False   \n",
              "4222     4498_02      Earth      True  G/734/S  PSO J318.5-22  14.0  False   \n",
              "4223     4498_03      Earth      True  G/734/S  PSO J318.5-22   4.0  False   \n",
              "4224     4498_04      Earth     False  G/734/S    TRAPPIST-1e  11.0  False   \n",
              "4225     4498_05      Earth      True  G/734/S    TRAPPIST-1e  31.0  False   \n",
              "4226     4498_06      Earth     False  G/734/S    TRAPPIST-1e  15.0  False   \n",
              "4227     4498_07      Earth     False  G/734/S    TRAPPIST-1e  39.0  False   \n",
              "4228     4498_08      Earth     False  G/734/S    TRAPPIST-1e   7.0  False   \n",
              "\n",
              "      RoomService  FoodCourt  ShoppingMall   Spa  VRDeck              Name  \\\n",
              "4221          0.0        0.0           0.0   0.0     0.0  Valex Munozanson   \n",
              "4222          0.0        0.0           0.0   0.0     0.0  Loise Beckeetter   \n",
              "4223          0.0        0.0           0.0   0.0     0.0  Lorie Beckeetter   \n",
              "4224          0.0        0.0           0.0   0.0     NaN  Dandy Munozanson   \n",
              "4225          0.0        0.0           0.0   0.0     0.0  Karay Beckeetter   \n",
              "4226          0.0      893.0           0.0   0.0     0.0   Line Munozanson   \n",
              "4227          0.0        2.0           0.0  69.0   836.0     Dary Mallerez   \n",
              "4228          0.0        0.0           0.0   0.0     0.0  Kendy Munozanson   \n",
              "\n",
              "      Transported  Group deck  num side  \n",
              "4221        False   4498    G  734    S  \n",
              "4222        False   4498    G  734    S  \n",
              "4223         True   4498    G  734    S  \n",
              "4224        False   4498    G  734    S  \n",
              "4225         True   4498    G  734    S  \n",
              "4226         True   4498    G  734    S  \n",
              "4227        False   4498    G  734    S  \n",
              "4228        False   4498    G  734    S  "
            ]
          },
          "execution_count": 16,
          "metadata": {},
          "output_type": "execute_result"
        }
      ],
      "source": [
        "df[df['Cabin']==\"G/734/S\"]"
      ]
    },
    {
      "cell_type": "code",
      "execution_count": 17,
      "metadata": {
        "colab": {
          "base_uri": "https://localhost:8080/",
          "height": 238
        },
        "id": "2T5ed3G1Wrvz",
        "outputId": "a40f25d5-48f6-4eb1-e521-4172965dd49d"
      },
      "outputs": [
        {
          "data": {
            "text/html": [
              "<div>\n",
              "<style scoped>\n",
              "    .dataframe tbody tr th:only-of-type {\n",
              "        vertical-align: middle;\n",
              "    }\n",
              "\n",
              "    .dataframe tbody tr th {\n",
              "        vertical-align: top;\n",
              "    }\n",
              "\n",
              "    .dataframe thead th {\n",
              "        text-align: right;\n",
              "    }\n",
              "</style>\n",
              "<table border=\"1\" class=\"dataframe\">\n",
              "  <thead>\n",
              "    <tr style=\"text-align: right;\">\n",
              "      <th></th>\n",
              "      <th>RoomService</th>\n",
              "    </tr>\n",
              "    <tr>\n",
              "      <th>Cabin</th>\n",
              "      <th></th>\n",
              "    </tr>\n",
              "  </thead>\n",
              "  <tbody>\n",
              "    <tr>\n",
              "      <th>A/0/P</th>\n",
              "      <td>0.0</td>\n",
              "    </tr>\n",
              "    <tr>\n",
              "      <th>A/0/S</th>\n",
              "      <td>43.0</td>\n",
              "    </tr>\n",
              "    <tr>\n",
              "      <th>A/1/S</th>\n",
              "      <td>279.0</td>\n",
              "    </tr>\n",
              "    <tr>\n",
              "      <th>A/10/P</th>\n",
              "      <td>0.0</td>\n",
              "    </tr>\n",
              "    <tr>\n",
              "      <th>A/10/S</th>\n",
              "      <td>2.0</td>\n",
              "    </tr>\n",
              "  </tbody>\n",
              "</table>\n",
              "</div>"
            ],
            "text/plain": [
              "        RoomService\n",
              "Cabin              \n",
              "A/0/P           0.0\n",
              "A/0/S          43.0\n",
              "A/1/S         279.0\n",
              "A/10/P          0.0\n",
              "A/10/S          2.0"
            ]
          },
          "execution_count": 17,
          "metadata": {},
          "output_type": "execute_result"
        }
      ],
      "source": [
        "df[['Cabin', 'RoomService']].groupby('Cabin').sum().sort_values('Cabin').head(5)"
      ]
    },
    {
      "cell_type": "markdown",
      "metadata": {
        "id": "nU5agUvTXlJM"
      },
      "source": [
        "## regeneração de valores numericos"
      ]
    },
    {
      "cell_type": "code",
      "execution_count": 18,
      "metadata": {
        "colab": {
          "base_uri": "https://localhost:8080/",
          "height": 300
        },
        "id": "dqBntyyDXwDf",
        "outputId": "098432df-9b13-403f-db79-9752a968c270"
      },
      "outputs": [
        {
          "data": {
            "text/html": [
              "<div>\n",
              "<style scoped>\n",
              "    .dataframe tbody tr th:only-of-type {\n",
              "        vertical-align: middle;\n",
              "    }\n",
              "\n",
              "    .dataframe tbody tr th {\n",
              "        vertical-align: top;\n",
              "    }\n",
              "\n",
              "    .dataframe thead th {\n",
              "        text-align: right;\n",
              "    }\n",
              "</style>\n",
              "<table border=\"1\" class=\"dataframe\">\n",
              "  <thead>\n",
              "    <tr style=\"text-align: right;\">\n",
              "      <th></th>\n",
              "      <th>Age</th>\n",
              "      <th>RoomService</th>\n",
              "      <th>FoodCourt</th>\n",
              "      <th>ShoppingMall</th>\n",
              "      <th>Spa</th>\n",
              "      <th>VRDeck</th>\n",
              "      <th>Group</th>\n",
              "    </tr>\n",
              "  </thead>\n",
              "  <tbody>\n",
              "    <tr>\n",
              "      <th>count</th>\n",
              "      <td>8514.000000</td>\n",
              "      <td>8512.000000</td>\n",
              "      <td>8510.000000</td>\n",
              "      <td>8485.000000</td>\n",
              "      <td>8510.000000</td>\n",
              "      <td>8505.000000</td>\n",
              "      <td>8693.000000</td>\n",
              "    </tr>\n",
              "    <tr>\n",
              "      <th>mean</th>\n",
              "      <td>28.827930</td>\n",
              "      <td>224.687617</td>\n",
              "      <td>458.077203</td>\n",
              "      <td>173.729169</td>\n",
              "      <td>311.138778</td>\n",
              "      <td>304.854791</td>\n",
              "      <td>4633.389624</td>\n",
              "    </tr>\n",
              "    <tr>\n",
              "      <th>std</th>\n",
              "      <td>14.489021</td>\n",
              "      <td>666.717663</td>\n",
              "      <td>1611.489240</td>\n",
              "      <td>604.696458</td>\n",
              "      <td>1136.705535</td>\n",
              "      <td>1145.717189</td>\n",
              "      <td>2671.028856</td>\n",
              "    </tr>\n",
              "    <tr>\n",
              "      <th>min</th>\n",
              "      <td>0.000000</td>\n",
              "      <td>0.000000</td>\n",
              "      <td>0.000000</td>\n",
              "      <td>0.000000</td>\n",
              "      <td>0.000000</td>\n",
              "      <td>0.000000</td>\n",
              "      <td>1.000000</td>\n",
              "    </tr>\n",
              "    <tr>\n",
              "      <th>25%</th>\n",
              "      <td>19.000000</td>\n",
              "      <td>0.000000</td>\n",
              "      <td>0.000000</td>\n",
              "      <td>0.000000</td>\n",
              "      <td>0.000000</td>\n",
              "      <td>0.000000</td>\n",
              "      <td>2319.000000</td>\n",
              "    </tr>\n",
              "    <tr>\n",
              "      <th>50%</th>\n",
              "      <td>27.000000</td>\n",
              "      <td>0.000000</td>\n",
              "      <td>0.000000</td>\n",
              "      <td>0.000000</td>\n",
              "      <td>0.000000</td>\n",
              "      <td>0.000000</td>\n",
              "      <td>4630.000000</td>\n",
              "    </tr>\n",
              "    <tr>\n",
              "      <th>75%</th>\n",
              "      <td>38.000000</td>\n",
              "      <td>47.000000</td>\n",
              "      <td>76.000000</td>\n",
              "      <td>27.000000</td>\n",
              "      <td>59.000000</td>\n",
              "      <td>46.000000</td>\n",
              "      <td>6883.000000</td>\n",
              "    </tr>\n",
              "    <tr>\n",
              "      <th>max</th>\n",
              "      <td>79.000000</td>\n",
              "      <td>14327.000000</td>\n",
              "      <td>29813.000000</td>\n",
              "      <td>23492.000000</td>\n",
              "      <td>22408.000000</td>\n",
              "      <td>24133.000000</td>\n",
              "      <td>9280.000000</td>\n",
              "    </tr>\n",
              "  </tbody>\n",
              "</table>\n",
              "</div>"
            ],
            "text/plain": [
              "               Age   RoomService     FoodCourt  ShoppingMall           Spa  \\\n",
              "count  8514.000000   8512.000000   8510.000000   8485.000000   8510.000000   \n",
              "mean     28.827930    224.687617    458.077203    173.729169    311.138778   \n",
              "std      14.489021    666.717663   1611.489240    604.696458   1136.705535   \n",
              "min       0.000000      0.000000      0.000000      0.000000      0.000000   \n",
              "25%      19.000000      0.000000      0.000000      0.000000      0.000000   \n",
              "50%      27.000000      0.000000      0.000000      0.000000      0.000000   \n",
              "75%      38.000000     47.000000     76.000000     27.000000     59.000000   \n",
              "max      79.000000  14327.000000  29813.000000  23492.000000  22408.000000   \n",
              "\n",
              "             VRDeck        Group  \n",
              "count   8505.000000  8693.000000  \n",
              "mean     304.854791  4633.389624  \n",
              "std     1145.717189  2671.028856  \n",
              "min        0.000000     1.000000  \n",
              "25%        0.000000  2319.000000  \n",
              "50%        0.000000  4630.000000  \n",
              "75%       46.000000  6883.000000  \n",
              "max    24133.000000  9280.000000  "
            ]
          },
          "execution_count": 18,
          "metadata": {},
          "output_type": "execute_result"
        }
      ],
      "source": [
        "df.describe()"
      ]
    },
    {
      "cell_type": "markdown",
      "metadata": {
        "id": "zjN3so-GbXyY"
      },
      "source": [
        "> possivelmente quem é vip virá a gastar mais, dividir o dataset em dois poderia me dar desvios padroes menores"
      ]
    },
    {
      "cell_type": "code",
      "execution_count": 19,
      "metadata": {
        "id": "w_gztnxebikO"
      },
      "outputs": [],
      "source": [
        "df_VIP=df[df['VIP']==True]\n",
        "df_notVIP = df[df['VIP']==False]"
      ]
    },
    {
      "cell_type": "code",
      "execution_count": 20,
      "metadata": {
        "colab": {
          "base_uri": "https://localhost:8080/",
          "height": 300
        },
        "id": "vVL1Eswzbzwf",
        "outputId": "1e0948d7-0fdf-4f63-9b38-abcf3cb793ac"
      },
      "outputs": [
        {
          "data": {
            "text/html": [
              "<div>\n",
              "<style scoped>\n",
              "    .dataframe tbody tr th:only-of-type {\n",
              "        vertical-align: middle;\n",
              "    }\n",
              "\n",
              "    .dataframe tbody tr th {\n",
              "        vertical-align: top;\n",
              "    }\n",
              "\n",
              "    .dataframe thead th {\n",
              "        text-align: right;\n",
              "    }\n",
              "</style>\n",
              "<table border=\"1\" class=\"dataframe\">\n",
              "  <thead>\n",
              "    <tr style=\"text-align: right;\">\n",
              "      <th></th>\n",
              "      <th>Age</th>\n",
              "      <th>RoomService</th>\n",
              "      <th>FoodCourt</th>\n",
              "      <th>ShoppingMall</th>\n",
              "      <th>Spa</th>\n",
              "      <th>VRDeck</th>\n",
              "      <th>Group</th>\n",
              "    </tr>\n",
              "  </thead>\n",
              "  <tbody>\n",
              "    <tr>\n",
              "      <th>count</th>\n",
              "      <td>198.000000</td>\n",
              "      <td>195.000000</td>\n",
              "      <td>193.000000</td>\n",
              "      <td>194.000000</td>\n",
              "      <td>197.000000</td>\n",
              "      <td>195.000000</td>\n",
              "      <td>199.000000</td>\n",
              "    </tr>\n",
              "    <tr>\n",
              "      <th>mean</th>\n",
              "      <td>37.449495</td>\n",
              "      <td>473.615385</td>\n",
              "      <td>1811.393782</td>\n",
              "      <td>247.726804</td>\n",
              "      <td>760.710660</td>\n",
              "      <td>1234.856410</td>\n",
              "      <td>4870.834171</td>\n",
              "    </tr>\n",
              "    <tr>\n",
              "      <th>std</th>\n",
              "      <td>11.611957</td>\n",
              "      <td>1098.363713</td>\n",
              "      <td>3758.336442</td>\n",
              "      <td>587.449429</td>\n",
              "      <td>1622.153873</td>\n",
              "      <td>2453.060817</td>\n",
              "      <td>2774.941915</td>\n",
              "    </tr>\n",
              "    <tr>\n",
              "      <th>min</th>\n",
              "      <td>18.000000</td>\n",
              "      <td>0.000000</td>\n",
              "      <td>0.000000</td>\n",
              "      <td>0.000000</td>\n",
              "      <td>0.000000</td>\n",
              "      <td>0.000000</td>\n",
              "      <td>3.000000</td>\n",
              "    </tr>\n",
              "    <tr>\n",
              "      <th>25%</th>\n",
              "      <td>29.000000</td>\n",
              "      <td>0.000000</td>\n",
              "      <td>0.000000</td>\n",
              "      <td>0.000000</td>\n",
              "      <td>0.000000</td>\n",
              "      <td>0.000000</td>\n",
              "      <td>2457.000000</td>\n",
              "    </tr>\n",
              "    <tr>\n",
              "      <th>50%</th>\n",
              "      <td>34.000000</td>\n",
              "      <td>0.000000</td>\n",
              "      <td>287.000000</td>\n",
              "      <td>0.000000</td>\n",
              "      <td>39.000000</td>\n",
              "      <td>30.000000</td>\n",
              "      <td>4917.000000</td>\n",
              "    </tr>\n",
              "    <tr>\n",
              "      <th>75%</th>\n",
              "      <td>44.000000</td>\n",
              "      <td>528.500000</td>\n",
              "      <td>2191.000000</td>\n",
              "      <td>161.500000</td>\n",
              "      <td>843.000000</td>\n",
              "      <td>1377.500000</td>\n",
              "      <td>7498.000000</td>\n",
              "    </tr>\n",
              "    <tr>\n",
              "      <th>max</th>\n",
              "      <td>73.000000</td>\n",
              "      <td>8243.000000</td>\n",
              "      <td>29813.000000</td>\n",
              "      <td>3700.000000</td>\n",
              "      <td>13902.000000</td>\n",
              "      <td>12424.000000</td>\n",
              "      <td>9276.000000</td>\n",
              "    </tr>\n",
              "  </tbody>\n",
              "</table>\n",
              "</div>"
            ],
            "text/plain": [
              "              Age  RoomService     FoodCourt  ShoppingMall           Spa  \\\n",
              "count  198.000000   195.000000    193.000000    194.000000    197.000000   \n",
              "mean    37.449495   473.615385   1811.393782    247.726804    760.710660   \n",
              "std     11.611957  1098.363713   3758.336442    587.449429   1622.153873   \n",
              "min     18.000000     0.000000      0.000000      0.000000      0.000000   \n",
              "25%     29.000000     0.000000      0.000000      0.000000      0.000000   \n",
              "50%     34.000000     0.000000    287.000000      0.000000     39.000000   \n",
              "75%     44.000000   528.500000   2191.000000    161.500000    843.000000   \n",
              "max     73.000000  8243.000000  29813.000000   3700.000000  13902.000000   \n",
              "\n",
              "             VRDeck        Group  \n",
              "count    195.000000   199.000000  \n",
              "mean    1234.856410  4870.834171  \n",
              "std     2453.060817  2774.941915  \n",
              "min        0.000000     3.000000  \n",
              "25%        0.000000  2457.000000  \n",
              "50%       30.000000  4917.000000  \n",
              "75%     1377.500000  7498.000000  \n",
              "max    12424.000000  9276.000000  "
            ]
          },
          "execution_count": 20,
          "metadata": {},
          "output_type": "execute_result"
        }
      ],
      "source": [
        "df_VIP.describe()"
      ]
    },
    {
      "cell_type": "code",
      "execution_count": 21,
      "metadata": {
        "colab": {
          "base_uri": "https://localhost:8080/",
          "height": 300
        },
        "id": "ny4iI4WVb5yC",
        "outputId": "3b3b3464-6018-46a0-d571-b062b546ba99"
      },
      "outputs": [
        {
          "data": {
            "text/html": [
              "<div>\n",
              "<style scoped>\n",
              "    .dataframe tbody tr th:only-of-type {\n",
              "        vertical-align: middle;\n",
              "    }\n",
              "\n",
              "    .dataframe tbody tr th {\n",
              "        vertical-align: top;\n",
              "    }\n",
              "\n",
              "    .dataframe thead th {\n",
              "        text-align: right;\n",
              "    }\n",
              "</style>\n",
              "<table border=\"1\" class=\"dataframe\">\n",
              "  <thead>\n",
              "    <tr style=\"text-align: right;\">\n",
              "      <th></th>\n",
              "      <th>Age</th>\n",
              "      <th>RoomService</th>\n",
              "      <th>FoodCourt</th>\n",
              "      <th>ShoppingMall</th>\n",
              "      <th>Spa</th>\n",
              "      <th>VRDeck</th>\n",
              "      <th>Group</th>\n",
              "    </tr>\n",
              "  </thead>\n",
              "  <tbody>\n",
              "    <tr>\n",
              "      <th>count</th>\n",
              "      <td>8316.000000</td>\n",
              "      <td>8317.000000</td>\n",
              "      <td>8317.000000</td>\n",
              "      <td>8291.000000</td>\n",
              "      <td>8313.000000</td>\n",
              "      <td>8310.000000</td>\n",
              "      <td>8494.000000</td>\n",
              "    </tr>\n",
              "    <tr>\n",
              "      <th>mean</th>\n",
              "      <td>28.622655</td>\n",
              "      <td>218.851268</td>\n",
              "      <td>426.672839</td>\n",
              "      <td>171.997708</td>\n",
              "      <td>300.484903</td>\n",
              "      <td>283.031649</td>\n",
              "      <td>4627.826701</td>\n",
              "    </tr>\n",
              "    <tr>\n",
              "      <th>std</th>\n",
              "      <td>14.488754</td>\n",
              "      <td>652.154158</td>\n",
              "      <td>1512.466562</td>\n",
              "      <td>605.020213</td>\n",
              "      <td>1120.611594</td>\n",
              "      <td>1087.291188</td>\n",
              "      <td>2668.462106</td>\n",
              "    </tr>\n",
              "    <tr>\n",
              "      <th>min</th>\n",
              "      <td>0.000000</td>\n",
              "      <td>0.000000</td>\n",
              "      <td>0.000000</td>\n",
              "      <td>0.000000</td>\n",
              "      <td>0.000000</td>\n",
              "      <td>0.000000</td>\n",
              "      <td>1.000000</td>\n",
              "    </tr>\n",
              "    <tr>\n",
              "      <th>25%</th>\n",
              "      <td>19.000000</td>\n",
              "      <td>0.000000</td>\n",
              "      <td>0.000000</td>\n",
              "      <td>0.000000</td>\n",
              "      <td>0.000000</td>\n",
              "      <td>0.000000</td>\n",
              "      <td>2315.250000</td>\n",
              "    </tr>\n",
              "    <tr>\n",
              "      <th>50%</th>\n",
              "      <td>27.000000</td>\n",
              "      <td>0.000000</td>\n",
              "      <td>0.000000</td>\n",
              "      <td>0.000000</td>\n",
              "      <td>0.000000</td>\n",
              "      <td>0.000000</td>\n",
              "      <td>4625.000000</td>\n",
              "    </tr>\n",
              "    <tr>\n",
              "      <th>75%</th>\n",
              "      <td>38.000000</td>\n",
              "      <td>43.000000</td>\n",
              "      <td>57.000000</td>\n",
              "      <td>25.000000</td>\n",
              "      <td>53.000000</td>\n",
              "      <td>40.000000</td>\n",
              "      <td>6865.750000</td>\n",
              "    </tr>\n",
              "    <tr>\n",
              "      <th>max</th>\n",
              "      <td>79.000000</td>\n",
              "      <td>14327.000000</td>\n",
              "      <td>27071.000000</td>\n",
              "      <td>23492.000000</td>\n",
              "      <td>22408.000000</td>\n",
              "      <td>24133.000000</td>\n",
              "      <td>9280.000000</td>\n",
              "    </tr>\n",
              "  </tbody>\n",
              "</table>\n",
              "</div>"
            ],
            "text/plain": [
              "               Age   RoomService     FoodCourt  ShoppingMall           Spa  \\\n",
              "count  8316.000000   8317.000000   8317.000000   8291.000000   8313.000000   \n",
              "mean     28.622655    218.851268    426.672839    171.997708    300.484903   \n",
              "std      14.488754    652.154158   1512.466562    605.020213   1120.611594   \n",
              "min       0.000000      0.000000      0.000000      0.000000      0.000000   \n",
              "25%      19.000000      0.000000      0.000000      0.000000      0.000000   \n",
              "50%      27.000000      0.000000      0.000000      0.000000      0.000000   \n",
              "75%      38.000000     43.000000     57.000000     25.000000     53.000000   \n",
              "max      79.000000  14327.000000  27071.000000  23492.000000  22408.000000   \n",
              "\n",
              "             VRDeck        Group  \n",
              "count   8310.000000  8494.000000  \n",
              "mean     283.031649  4627.826701  \n",
              "std     1087.291188  2668.462106  \n",
              "min        0.000000     1.000000  \n",
              "25%        0.000000  2315.250000  \n",
              "50%        0.000000  4625.000000  \n",
              "75%       40.000000  6865.750000  \n",
              "max    24133.000000  9280.000000  "
            ]
          },
          "execution_count": 21,
          "metadata": {},
          "output_type": "execute_result"
        }
      ],
      "source": [
        "df_notVIP.describe()"
      ]
    },
    {
      "cell_type": "markdown",
      "metadata": {
        "id": "4CXGVyXrcUOF"
      },
      "source": [
        "> notas-se que ha uma diferença clara entre os valores de quem é vip e de quem não é vip"
      ]
    },
    {
      "cell_type": "code",
      "execution_count": null,
      "metadata": {
        "id": "Xf47Avsdch9J"
      },
      "outputs": [],
      "source": []
    },
    {
      "cell_type": "code",
      "execution_count": 22,
      "metadata": {
        "id": "BmLsE89pAJIg"
      },
      "outputs": [],
      "source": [
        "def prencher_mediana_seVIP(coluna):\n",
        "    mediana_coluna_vip = df_VIP[coluna].median()\n",
        "    mediana_coluna_notvip = df_notVIP[coluna].median()\n",
        "\n",
        "    df[coluna] = df.apply(lambda row: mediana_coluna_vip if pd.isna(row[coluna]) and row['VIP'] == True\n",
        "                                else (mediana_coluna_notvip if pd.isna(row[coluna]) and row['VIP'] == False\n",
        "                                    else row[coluna]), axis=1)"
      ]
    },
    {
      "cell_type": "code",
      "execution_count": 23,
      "metadata": {
        "id": "iLDIvog69PHP"
      },
      "outputs": [],
      "source": [
        "colunas = [\"RoomService\", \"FoodCourt\", \"ShoppingMall\", \"Spa\", \"VRDeck\", \"Age\"]\n",
        "for coluna in colunas:\n",
        "    prencher_mediana_seVIP(coluna)"
      ]
    },
    {
      "cell_type": "code",
      "execution_count": 24,
      "metadata": {
        "colab": {
          "base_uri": "https://localhost:8080/"
        },
        "id": "GM9OZqr9B4Ou",
        "outputId": "88967793-8451-4924-c28f-266a59145be1"
      },
      "outputs": [
        {
          "name": "stdout",
          "output_type": "stream",
          "text": [
            "<class 'pandas.core.frame.DataFrame'>\n",
            "RangeIndex: 8693 entries, 0 to 8692\n",
            "Data columns (total 18 columns):\n",
            " #   Column        Non-Null Count  Dtype  \n",
            "---  ------        --------------  -----  \n",
            " 0   PassengerId   8693 non-null   object \n",
            " 1   HomePlanet    8693 non-null   object \n",
            " 2   CryoSleep     8476 non-null   object \n",
            " 3   Cabin         8494 non-null   object \n",
            " 4   Destination   8511 non-null   object \n",
            " 5   Age           8693 non-null   float64\n",
            " 6   VIP           8693 non-null   bool   \n",
            " 7   RoomService   8693 non-null   float64\n",
            " 8   FoodCourt     8693 non-null   float64\n",
            " 9   ShoppingMall  8693 non-null   float64\n",
            " 10  Spa           8693 non-null   float64\n",
            " 11  VRDeck        8693 non-null   float64\n",
            " 12  Name          8493 non-null   object \n",
            " 13  Transported   8693 non-null   bool   \n",
            " 14  Group         8693 non-null   int64  \n",
            " 15  deck          8494 non-null   object \n",
            " 16  num           8494 non-null   object \n",
            " 17  side          8494 non-null   object \n",
            "dtypes: bool(2), float64(6), int64(1), object(9)\n",
            "memory usage: 1.1+ MB\n"
          ]
        }
      ],
      "source": [
        "df.info()"
      ]
    },
    {
      "cell_type": "code",
      "execution_count": 25,
      "metadata": {
        "colab": {
          "base_uri": "https://localhost:8080/",
          "height": 649
        },
        "id": "AtmSM0uVz9Ci",
        "outputId": "e5f42184-5ce5-4a42-9d23-5e6bbe4dff95"
      },
      "outputs": [
        {
          "data": {
            "text/plain": [
              "PassengerId       0\n",
              "HomePlanet        0\n",
              "CryoSleep       217\n",
              "Cabin           199\n",
              "Destination     182\n",
              "Age               0\n",
              "VIP               0\n",
              "RoomService       0\n",
              "FoodCourt         0\n",
              "ShoppingMall      0\n",
              "Spa               0\n",
              "VRDeck            0\n",
              "Name            200\n",
              "Transported       0\n",
              "Group             0\n",
              "deck            199\n",
              "num             199\n",
              "side            199\n",
              "dtype: int64"
            ]
          },
          "execution_count": 25,
          "metadata": {},
          "output_type": "execute_result"
        }
      ],
      "source": [
        "df.isnull().sum()"
      ]
    },
    {
      "cell_type": "markdown",
      "metadata": {
        "id": "_RcZ_nFz70i3"
      },
      "source": [
        "## regenerando CryoSleep"
      ]
    },
    {
      "cell_type": "code",
      "execution_count": 26,
      "metadata": {
        "colab": {
          "base_uri": "https://localhost:8080/"
        },
        "id": "KTkCr-Rj0ql0",
        "outputId": "ebd1d5b6-99e6-46f7-a904-d8cc66f899d2"
      },
      "outputs": [
        {
          "name": "stdout",
          "output_type": "stream",
          "text": [
            "\n",
            "Contagem de CryoSleep por HomePlanet:\n",
            "CryoSleep   False  True \n",
            "HomePlanet              \n",
            "Earth        3201   1428\n",
            "Europa       1176    927\n",
            "Mars         1062    682\n",
            "\n",
            "Contagem de CryoSleep por deck:\n",
            "CryoSleep  False  True \n",
            "deck                   \n",
            "A            182     68\n",
            "B            341    419\n",
            "C            430    294\n",
            "D            364    104\n",
            "E            688    168\n",
            "F           2176    550\n",
            "G           1146   1350\n",
            "T              4      0\n",
            "\n",
            "Contagem de CryoSleep por side:\n",
            "CryoSleep  False  True \n",
            "side                   \n",
            "P           2673   1420\n",
            "S           2658   1533\n",
            "\n",
            "Contagem de CryoSleep por Destination:\n",
            "CryoSleep      False  True \n",
            "Destination                \n",
            "55 Cancri e     1017    739\n",
            "PSO J318.5-22    394    383\n",
            "TRAPPIST-1e     3898   1867\n",
            "\n",
            "Contagem de CryoSleep por VIP:\n",
            "CryoSleep  False  True \n",
            "VIP                    \n",
            "False       5264   3016\n",
            "True         175     21\n"
          ]
        }
      ],
      "source": [
        "categorical_cols = ['HomePlanet', 'CryoSleep', 'deck', 'side', 'Destination', 'VIP']\n",
        "\n",
        "for col in categorical_cols:\n",
        "    if col in df.columns and col != 'CryoSleep':\n",
        "        print(f\"\\nContagem de CryoSleep por {col}:\")\n",
        "        print(df.groupby(col)['CryoSleep'].value_counts().unstack(fill_value=0))\n"
      ]
    },
    {
      "cell_type": "markdown",
      "metadata": {
        "id": "YepSkDI43F3-"
      },
      "source": [
        "não foi notado uma correlação direta entre CryoSleep e as outras colunas categorias, por tanto, diferente da vip que poderia ser regenerada por uma coluna categorica CryoSleep não pode, porem, considerando que os passageiros que estão em CryoSleep podem não vir a consumir na nave, vamos analisar as colunas numericas"
      ]
    },
    {
      "cell_type": "code",
      "execution_count": 27,
      "metadata": {
        "colab": {
          "base_uri": "https://localhost:8080/"
        },
        "id": "eEHREDe13ubk",
        "outputId": "de382ba8-6b95-4af9-f055-b6d0f1d0dc4e"
      },
      "outputs": [
        {
          "name": "stdout",
          "output_type": "stream",
          "text": [
            "Média das colunas quantitativas agrupada por CryoSleep:\n",
            "           RoomService   FoodCourt  ShoppingMall         Spa      VRDeck  \\\n",
            "CryoSleep                                                                  \n",
            "False       343.000919  698.795367    265.412576  476.001103  465.324508   \n",
            "True          0.000000    0.094501      0.000000    0.012842    0.009878   \n",
            "\n",
            "                 Age  \n",
            "CryoSleep             \n",
            "False      29.605810  \n",
            "True       27.394468   \n",
            "\n",
            "\n",
            "soma das colunas quantitativas agrupada por CryoSleep:\n",
            "           RoomService  FoodCourt  ShoppingMall        Spa     VRDeck  \\\n",
            "CryoSleep                                                               \n",
            "False        1865582.0  3800748.0     1443579.0  2588970.0  2530900.0   \n",
            "True               0.0      287.0           0.0       39.0       30.0   \n",
            "\n",
            "                Age  \n",
            "CryoSleep            \n",
            "False      161026.0  \n",
            "True        83197.0  \n"
          ]
        }
      ],
      "source": [
        "# prompt: media de cada coluna quantitativa agrupada por CryoSleep\n",
        "\n",
        "# Selecionar apenas as colunas quantitativas\n",
        "quantitative_cols = [\"RoomService\", \"FoodCourt\", \"ShoppingMall\", \"Spa\", \"VRDeck\", \"Age\"]\n",
        "# Filtrar as colunas que realmente existem no DataFrame\n",
        "quantitative_cols = [col for col in quantitative_cols if col in df.columns]\n",
        "\n",
        "# Calcular a média de cada coluna quantitativa agrupada por CryoSleep\n",
        "mean_by_cryosleep = df.groupby('CryoSleep')[quantitative_cols].mean()\n",
        "sum_by_cryosleep = df.groupby('CryoSleep')[quantitative_cols].sum()\n",
        "\n",
        "print(\"Média das colunas quantitativas agrupada por CryoSleep:\")\n",
        "print(mean_by_cryosleep, \"\\n\\n\")\n",
        "print(\"soma das colunas quantitativas agrupada por CryoSleep:\")\n",
        "print(sum_by_cryosleep)"
      ]
    },
    {
      "cell_type": "markdown",
      "metadata": {
        "id": "a466CwKX4p8M"
      },
      "source": [
        "como imaginado, os passageiros com sono criogenico não consumiram nada em RoomService e ShoppingMall, logo se torna possivel regenerar essa coluna apartir desses valores"
      ]
    },
    {
      "cell_type": "code",
      "execution_count": 28,
      "metadata": {
        "colab": {
          "base_uri": "https://localhost:8080/"
        },
        "id": "zvV9qpOX5GMy",
        "outputId": "069ebe55-9d39-4933-bb7d-118ca2554110"
      },
      "outputs": [
        {
          "name": "stdout",
          "output_type": "stream",
          "text": [
            "0\n",
            "<class 'pandas.core.frame.DataFrame'>\n",
            "RangeIndex: 8693 entries, 0 to 8692\n",
            "Data columns (total 18 columns):\n",
            " #   Column        Non-Null Count  Dtype  \n",
            "---  ------        --------------  -----  \n",
            " 0   PassengerId   8693 non-null   object \n",
            " 1   HomePlanet    8693 non-null   object \n",
            " 2   CryoSleep     8693 non-null   object \n",
            " 3   Cabin         8494 non-null   object \n",
            " 4   Destination   8511 non-null   object \n",
            " 5   Age           8693 non-null   float64\n",
            " 6   VIP           8693 non-null   bool   \n",
            " 7   RoomService   8693 non-null   float64\n",
            " 8   FoodCourt     8693 non-null   float64\n",
            " 9   ShoppingMall  8693 non-null   float64\n",
            " 10  Spa           8693 non-null   float64\n",
            " 11  VRDeck        8693 non-null   float64\n",
            " 12  Name          8493 non-null   object \n",
            " 13  Transported   8693 non-null   bool   \n",
            " 14  Group         8693 non-null   int64  \n",
            " 15  deck          8494 non-null   object \n",
            " 16  num           8494 non-null   object \n",
            " 17  side          8494 non-null   object \n",
            "dtypes: bool(2), float64(6), int64(1), object(9)\n",
            "memory usage: 1.1+ MB\n"
          ]
        }
      ],
      "source": [
        "df.loc[(df['RoomService'] == 0) | (df['ShoppingMall'] == 0) & (df['CryoSleep'].isnull()), 'CryoSleep'] = True\n",
        "df.loc[(df['RoomService'] != 0) | (df['ShoppingMall'] != 0) & (df['CryoSleep'].isnull()), 'CryoSleep'] = False\n",
        "\n",
        "print(df['CryoSleep'].isnull().sum())\n",
        "df.info()"
      ]
    },
    {
      "cell_type": "markdown",
      "metadata": {
        "id": "Zf9wlmnp7_wS"
      },
      "source": [
        "## regenerando Destination"
      ]
    },
    {
      "cell_type": "code",
      "execution_count": 29,
      "metadata": {
        "colab": {
          "base_uri": "https://localhost:8080/"
        },
        "id": "F7-XENnq6FSp",
        "outputId": "ea094dbc-c8a6-4e18-c6de-84c4bdc41567"
      },
      "outputs": [
        {
          "name": "stdout",
          "output_type": "stream",
          "text": [
            "\n",
            "Contagem de Destination por HomePlanet:\n",
            "HomePlanet  Destination  \n",
            "Earth       TRAPPIST-1e      3205\n",
            "            PSO J318.5-22     727\n",
            "            55 Cancri e       710\n",
            "Europa      TRAPPIST-1e      1209\n",
            "            55 Cancri e       896\n",
            "            PSO J318.5-22      19\n",
            "Mars        TRAPPIST-1e      1501\n",
            "            55 Cancri e       194\n",
            "            PSO J318.5-22      50\n",
            "Name: count, dtype: int64\n",
            "\n",
            "Contagem de Destination por CryoSleep:\n",
            "CryoSleep  Destination  \n",
            "False      TRAPPIST-1e      2152\n",
            "           55 Cancri e       491\n",
            "           PSO J318.5-22     221\n",
            "True       TRAPPIST-1e      3763\n",
            "           55 Cancri e      1309\n",
            "           PSO J318.5-22     575\n",
            "Name: count, dtype: int64\n",
            "\n",
            "Contagem de Destination por deck:\n",
            "deck  Destination  \n",
            "A     TRAPPIST-1e       142\n",
            "      55 Cancri e       108\n",
            "      PSO J318.5-22       2\n",
            "B     TRAPPIST-1e       426\n",
            "      55 Cancri e       333\n",
            "      PSO J318.5-22       3\n",
            "C     TRAPPIST-1e       405\n",
            "      55 Cancri e       317\n",
            "      PSO J318.5-22      13\n",
            "D     TRAPPIST-1e       338\n",
            "      55 Cancri e       113\n",
            "      PSO J318.5-22      17\n",
            "E     TRAPPIST-1e       696\n",
            "      55 Cancri e       116\n",
            "      PSO J318.5-22      41\n",
            "F     TRAPPIST-1e      2088\n",
            "      55 Cancri e       398\n",
            "      PSO J318.5-22     241\n",
            "G     TRAPPIST-1e      1688\n",
            "      PSO J318.5-22     461\n",
            "      55 Cancri e       365\n",
            "T     TRAPPIST-1e         5\n",
            "Name: count, dtype: int64\n",
            "\n",
            "Contagem de Destination por side:\n",
            "side  Destination  \n",
            "P     TRAPPIST-1e      2882\n",
            "      55 Cancri e       844\n",
            "      PSO J318.5-22     393\n",
            "S     TRAPPIST-1e      2906\n",
            "      55 Cancri e       906\n",
            "      PSO J318.5-22     385\n",
            "Name: count, dtype: int64\n",
            "\n",
            "Contagem de Destination por VIP:\n",
            "VIP    Destination  \n",
            "False  TRAPPIST-1e      5801\n",
            "       55 Cancri e      1735\n",
            "       PSO J318.5-22     778\n",
            "True   TRAPPIST-1e       114\n",
            "       55 Cancri e        65\n",
            "       PSO J318.5-22      18\n",
            "Name: count, dtype: int64\n"
          ]
        }
      ],
      "source": [
        "for col in categorical_cols:\n",
        "    if col in df.columns and col != 'Destination':\n",
        "        print(f\"\\nContagem de Destination por {col}:\")\n",
        "        print(df.groupby(col)['Destination'].value_counts())"
      ]
    },
    {
      "cell_type": "markdown",
      "metadata": {
        "id": "dj7WoNUa_1k3"
      },
      "source": [
        "notasse uma possivel descrepancia no deck F"
      ]
    },
    {
      "cell_type": "code",
      "execution_count": 30,
      "metadata": {
        "colab": {
          "base_uri": "https://localhost:8080/",
          "height": 807
        },
        "id": "3UT0OvpuADcl",
        "outputId": "1be4141f-a721-4925-fa23-ed5e15af3ece"
      },
      "outputs": [
        {
          "data": {
            "image/png": "[encoded data removed]",
            "text/plain": [
              "<Figure size 1200x800 with 1 Axes>"
            ]
          },
          "metadata": {},
          "output_type": "display_data"
        }
      ],
      "source": [
        "# prompt: plotar grafico de colunas 100% (normalizadas) de destino por deck\n",
        "\n",
        "import matplotlib.pyplot as plt\n",
        "# Calcula a contagem de cada combinação de 'Destination' e 'deck'\n",
        "destination_deck_counts = df.groupby(['deck', 'Destination']).size().unstack(fill_value=0)\n",
        "\n",
        "# Calcula a soma total de 'Destination' para cada 'deck'\n",
        "destination_deck_sum = destination_deck_counts.sum(axis=1)\n",
        "\n",
        "# Calcula as porcentagens normalizadas por 'deck'\n",
        "destination_deck_normalized = destination_deck_counts.divide(destination_deck_sum, axis=0) * 100\n",
        "\n",
        "# Plota o gráfico de barras empilhadas 100%\n",
        "plt.figure(figsize=(12, 8))\n",
        "destination_deck_normalized.plot(kind='bar', stacked=True, ax=plt.gca())\n",
        "plt.title('Distribuição Percentual de Destino por Deck')\n",
        "plt.xlabel('Deck')\n",
        "plt.ylabel('Porcentagem (%)')\n",
        "plt.xticks(rotation=0)\n",
        "plt.legend(title='Destino', bbox_to_anchor=(1.05, 1), loc='upper left')\n",
        "plt.gca().spines[['top', 'right']].set_visible(False)\n",
        "plt.tight_layout()\n",
        "plt.show()"
      ]
    },
    {
      "cell_type": "markdown",
      "metadata": {
        "id": "Xb9GYwySAtiS"
      },
      "source": [
        "apos essa observação, presumese que um palpite educado de assumir que caso o passageiro esteja nos decks D,E,F,T tenham como destino TRAPPIST-1e"
      ]
    },
    {
      "cell_type": "code",
      "execution_count": 31,
      "metadata": {
        "colab": {
          "base_uri": "https://localhost:8080/"
        },
        "id": "oJ2YmMwaBN6K",
        "outputId": "9cd3ac50-1fd2-4a60-97ff-3fd206aee7cb"
      },
      "outputs": [
        {
          "name": "stdout",
          "output_type": "stream",
          "text": [
            "Valores faltantes em Destination após preenchimento por deck:\n",
            "82\n"
          ]
        }
      ],
      "source": [
        "df.loc[df['deck'].isin(['D', 'E', 'F', 'T']) & df['Destination'].isnull(), 'Destination'] = 'TRAPPIST-1e'\n",
        "\n",
        "print(\"Valores faltantes em Destination após preenchimento por deck:\")\n",
        "print(df['Destination'].isnull().sum())"
      ]
    },
    {
      "cell_type": "code",
      "execution_count": 32,
      "metadata": {
        "colab": {
          "base_uri": "https://localhost:8080/"
        },
        "id": "xOL9zLoH8liA",
        "outputId": "ee55218c-3cb1-42ff-81ba-fbca035a80fd"
      },
      "outputs": [
        {
          "name": "stdout",
          "output_type": "stream",
          "text": [
            "Média das colunas quantitativas agrupada por Destination:\n",
            "               RoomService   FoodCourt  ShoppingMall         Spa      VRDeck  \\\n",
            "Destination                                                                    \n",
            "55 Cancri e     189.712222  870.155556    153.495000  470.008333  497.271667   \n",
            "PSO J318.5-22    88.211055  120.091709    110.723618  115.629397  138.057789   \n",
            "TRAPPIST-1e     248.007315  365.473649    183.658853  280.069659  258.992352   \n",
            "\n",
            "                     Age  \n",
            "Destination               \n",
            "55 Cancri e    29.262222  \n",
            "PSO J318.5-22  27.520101  \n",
            "TRAPPIST-1e    28.812303   \n",
            "\n",
            "\n",
            "soma das colunas quantitativas agrupada por Destination:\n",
            "               RoomService  FoodCourt  ShoppingMall        Spa     VRDeck  \\\n",
            "Destination                                                                 \n",
            "55 Cancri e       341482.0  1566280.0      276291.0   846015.0   895089.0   \n",
            "PSO J318.5-22      70216.0    95593.0       88136.0    92041.0   109894.0   \n",
            "TRAPPIST-1e      1491764.0  2198324.0     1104708.0  1684619.0  1557839.0   \n",
            "\n",
            "                    Age  \n",
            "Destination              \n",
            "55 Cancri e     52672.0  \n",
            "PSO J318.5-22   21906.0  \n",
            "TRAPPIST-1e    173306.0  \n"
          ]
        }
      ],
      "source": [
        "mean_by_Destination = df.groupby('Destination')[quantitative_cols].mean()\n",
        "sum_by_Destination = df.groupby('Destination')[quantitative_cols].sum()\n",
        "\n",
        "print(\"Média das colunas quantitativas agrupada por Destination:\")\n",
        "print(mean_by_Destination, \"\\n\\n\")\n",
        "print(\"soma das colunas quantitativas agrupada por Destination:\")\n",
        "print(sum_by_Destination)"
      ]
    },
    {
      "cell_type": "markdown",
      "metadata": {
        "id": "A3sB1xvTBv1K"
      },
      "source": [
        "não foi possivel fazer um preenchimento muito bom dos valores, mas reduziu bastante a quantidade, considerando que o valor restante se aproxima de 1% sera optado por dropar os valores nulos de deck ou preencher com um valor que representa o comrrompido ja que a falta da informação pode ser uma informação"
      ]
    },
    {
      "cell_type": "code",
      "execution_count": 33,
      "metadata": {
        "colab": {
          "base_uri": "https://localhost:8080/"
        },
        "id": "EP-YpegDCLns",
        "outputId": "9cac1e65-4cd4-4789-a2fd-79fffd1a12a5"
      },
      "outputs": [
        {
          "name": "stdout",
          "output_type": "stream",
          "text": [
            "<class 'pandas.core.frame.DataFrame'>\n",
            "RangeIndex: 8693 entries, 0 to 8692\n",
            "Data columns (total 18 columns):\n",
            " #   Column        Non-Null Count  Dtype  \n",
            "---  ------        --------------  -----  \n",
            " 0   PassengerId   8693 non-null   object \n",
            " 1   HomePlanet    8693 non-null   object \n",
            " 2   CryoSleep     8693 non-null   object \n",
            " 3   Cabin         8494 non-null   object \n",
            " 4   Destination   8611 non-null   object \n",
            " 5   Age           8693 non-null   float64\n",
            " 6   VIP           8693 non-null   bool   \n",
            " 7   RoomService   8693 non-null   float64\n",
            " 8   FoodCourt     8693 non-null   float64\n",
            " 9   ShoppingMall  8693 non-null   float64\n",
            " 10  Spa           8693 non-null   float64\n",
            " 11  VRDeck        8693 non-null   float64\n",
            " 12  Name          8493 non-null   object \n",
            " 13  Transported   8693 non-null   bool   \n",
            " 14  Group         8693 non-null   int64  \n",
            " 15  deck          8494 non-null   object \n",
            " 16  num           8494 non-null   object \n",
            " 17  side          8494 non-null   object \n",
            "dtypes: bool(2), float64(6), int64(1), object(9)\n",
            "memory usage: 1.1+ MB\n"
          ]
        }
      ],
      "source": [
        "df.info()"
      ]
    },
    {
      "cell_type": "code",
      "execution_count": 34,
      "metadata": {
        "id": "8N6__FLkM1ZH"
      },
      "outputs": [],
      "source": [
        "for col in ('deck', 'num', 'side','Cabin', 'Destination'):\n",
        "    df[col] = df[col].fillna(df[col].mode()[0])"
      ]
    },
    {
      "cell_type": "code",
      "execution_count": 35,
      "metadata": {
        "id": "uKyRMWuHPE8E"
      },
      "outputs": [
        {
          "data": {
            "text/html": [
              "<div>\n",
              "<style scoped>\n",
              "    .dataframe tbody tr th:only-of-type {\n",
              "        vertical-align: middle;\n",
              "    }\n",
              "\n",
              "    .dataframe tbody tr th {\n",
              "        vertical-align: top;\n",
              "    }\n",
              "\n",
              "    .dataframe thead th {\n",
              "        text-align: right;\n",
              "    }\n",
              "</style>\n",
              "<table border=\"1\" class=\"dataframe\">\n",
              "  <thead>\n",
              "    <tr style=\"text-align: right;\">\n",
              "      <th></th>\n",
              "      <th>PassengerId</th>\n",
              "      <th>HomePlanet</th>\n",
              "      <th>CryoSleep</th>\n",
              "      <th>Cabin</th>\n",
              "      <th>Destination</th>\n",
              "      <th>Age</th>\n",
              "      <th>VIP</th>\n",
              "      <th>RoomService</th>\n",
              "      <th>FoodCourt</th>\n",
              "      <th>ShoppingMall</th>\n",
              "      <th>Spa</th>\n",
              "      <th>VRDeck</th>\n",
              "      <th>Name</th>\n",
              "      <th>Transported</th>\n",
              "      <th>Group</th>\n",
              "      <th>deck</th>\n",
              "      <th>num</th>\n",
              "      <th>side</th>\n",
              "    </tr>\n",
              "  </thead>\n",
              "  <tbody>\n",
              "    <tr>\n",
              "      <th>0</th>\n",
              "      <td>0001_01</td>\n",
              "      <td>Europa</td>\n",
              "      <td>True</td>\n",
              "      <td>B/0/P</td>\n",
              "      <td>TRAPPIST-1e</td>\n",
              "      <td>39.0</td>\n",
              "      <td>False</td>\n",
              "      <td>0.0</td>\n",
              "      <td>0.0</td>\n",
              "      <td>0.0</td>\n",
              "      <td>0.0</td>\n",
              "      <td>0.0</td>\n",
              "      <td>Maham Ofracculy</td>\n",
              "      <td>False</td>\n",
              "      <td>1</td>\n",
              "      <td>B</td>\n",
              "      <td>0</td>\n",
              "      <td>P</td>\n",
              "    </tr>\n",
              "    <tr>\n",
              "      <th>1</th>\n",
              "      <td>0002_01</td>\n",
              "      <td>Earth</td>\n",
              "      <td>False</td>\n",
              "      <td>F/0/S</td>\n",
              "      <td>TRAPPIST-1e</td>\n",
              "      <td>24.0</td>\n",
              "      <td>False</td>\n",
              "      <td>109.0</td>\n",
              "      <td>9.0</td>\n",
              "      <td>25.0</td>\n",
              "      <td>549.0</td>\n",
              "      <td>44.0</td>\n",
              "      <td>Juanna Vines</td>\n",
              "      <td>True</td>\n",
              "      <td>2</td>\n",
              "      <td>F</td>\n",
              "      <td>0</td>\n",
              "      <td>S</td>\n",
              "    </tr>\n",
              "    <tr>\n",
              "      <th>2</th>\n",
              "      <td>0003_01</td>\n",
              "      <td>Europa</td>\n",
              "      <td>False</td>\n",
              "      <td>A/0/S</td>\n",
              "      <td>TRAPPIST-1e</td>\n",
              "      <td>58.0</td>\n",
              "      <td>True</td>\n",
              "      <td>43.0</td>\n",
              "      <td>3576.0</td>\n",
              "      <td>0.0</td>\n",
              "      <td>6715.0</td>\n",
              "      <td>49.0</td>\n",
              "      <td>Altark Susent</td>\n",
              "      <td>False</td>\n",
              "      <td>3</td>\n",
              "      <td>A</td>\n",
              "      <td>0</td>\n",
              "      <td>S</td>\n",
              "    </tr>\n",
              "    <tr>\n",
              "      <th>3</th>\n",
              "      <td>0003_02</td>\n",
              "      <td>Europa</td>\n",
              "      <td>True</td>\n",
              "      <td>A/0/S</td>\n",
              "      <td>TRAPPIST-1e</td>\n",
              "      <td>33.0</td>\n",
              "      <td>False</td>\n",
              "      <td>0.0</td>\n",
              "      <td>1283.0</td>\n",
              "      <td>371.0</td>\n",
              "      <td>3329.0</td>\n",
              "      <td>193.0</td>\n",
              "      <td>Solam Susent</td>\n",
              "      <td>False</td>\n",
              "      <td>3</td>\n",
              "      <td>A</td>\n",
              "      <td>0</td>\n",
              "      <td>S</td>\n",
              "    </tr>\n",
              "    <tr>\n",
              "      <th>4</th>\n",
              "      <td>0004_01</td>\n",
              "      <td>Earth</td>\n",
              "      <td>False</td>\n",
              "      <td>F/1/S</td>\n",
              "      <td>TRAPPIST-1e</td>\n",
              "      <td>16.0</td>\n",
              "      <td>False</td>\n",
              "      <td>303.0</td>\n",
              "      <td>70.0</td>\n",
              "      <td>151.0</td>\n",
              "      <td>565.0</td>\n",
              "      <td>2.0</td>\n",
              "      <td>Willy Santantines</td>\n",
              "      <td>True</td>\n",
              "      <td>4</td>\n",
              "      <td>F</td>\n",
              "      <td>1</td>\n",
              "      <td>S</td>\n",
              "    </tr>\n",
              "  </tbody>\n",
              "</table>\n",
              "</div>"
            ],
            "text/plain": [
              "  PassengerId HomePlanet CryoSleep  Cabin  Destination   Age    VIP  \\\n",
              "0     0001_01     Europa      True  B/0/P  TRAPPIST-1e  39.0  False   \n",
              "1     0002_01      Earth     False  F/0/S  TRAPPIST-1e  24.0  False   \n",
              "2     0003_01     Europa     False  A/0/S  TRAPPIST-1e  58.0   True   \n",
              "3     0003_02     Europa      True  A/0/S  TRAPPIST-1e  33.0  False   \n",
              "4     0004_01      Earth     False  F/1/S  TRAPPIST-1e  16.0  False   \n",
              "\n",
              "   RoomService  FoodCourt  ShoppingMall     Spa  VRDeck               Name  \\\n",
              "0          0.0        0.0           0.0     0.0     0.0    Maham Ofracculy   \n",
              "1        109.0        9.0          25.0   549.0    44.0       Juanna Vines   \n",
              "2         43.0     3576.0           0.0  6715.0    49.0      Altark Susent   \n",
              "3          0.0     1283.0         371.0  3329.0   193.0       Solam Susent   \n",
              "4        303.0       70.0         151.0   565.0     2.0  Willy Santantines   \n",
              "\n",
              "   Transported  Group deck num side  \n",
              "0        False      1    B   0    P  \n",
              "1         True      2    F   0    S  \n",
              "2        False      3    A   0    S  \n",
              "3        False      3    A   0    S  \n",
              "4         True      4    F   1    S  "
            ]
          },
          "execution_count": 35,
          "metadata": {},
          "output_type": "execute_result"
        }
      ],
      "source": [
        "df.head()"
      ]
    }
  ],
  "metadata": {
    "colab": {
      "provenance": []
    },
    "kernelspec": {
      "display_name": ".venv (3.12.3)",
      "language": "python",
      "name": "python3"
    },
    "language_info": {
      "codemirror_mode": {
        "name": "ipython",
        "version": 3
      },
      "file_extension": ".py",
      "mimetype": "text/x-python",
      "name": "python",
      "nbconvert_exporter": "python",
      "pygments_lexer": "ipython3",
      "version": "3.12.3"
    }
  },
  "nbformat": 4,
  "nbformat_minor": 0
}
